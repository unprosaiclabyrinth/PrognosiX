{
 "cells": [
  {
   "cell_type": "markdown",
   "id": "07134a73-390a-4caa-bed3-0fbc73695b50",
   "metadata": {},
   "source": [
    "## Prognosix\n"
   ]
  },
  {
   "cell_type": "markdown",
   "id": "f973eb74",
   "metadata": {},
   "source": [
    "[Link to GitHub](https://github.com/unprosaiclabyrinth/PrognosiX)  "
   ]
  },
  {
   "cell_type": "markdown",
   "id": "a7665563",
   "metadata": {},
   "source": [
    "### Introduction\n",
    "\n",
    "Chronic Kidney Disease (CKD) is when the kidneys are destroyed over time and do not have full functionality. CKD is known as a silent killer that often goes undiagnosed until its late stages. \n",
    "\n",
    "Prognosix goal is to develop a diagnostic tool that can predict the likelihood of CKD by using the [UCI ML Repository dataset](https://archive.ics.uci.edu/dataset/336/chronic+kidney+disease). By analyzing biomarkers and clinical data collected from patients such as their blood pressure, hemoglobin, age, and albumin measurements, we can see patterns and correlations that can be used to classify individuals at-risk for CKD. We aim to support healthcare providers in making a diagnosis which allows for timely interventions and a reduction in complications. "
   ]
  },
  {
   "cell_type": "markdown",
   "id": "f233d83e",
   "metadata": {},
   "source": [
    "### Summary"
   ]
  },
  {
   "cell_type": "markdown",
   "id": "c42f172b",
   "metadata": {},
   "source": [
    "#### Data"
   ]
  },
  {
   "cell_type": "markdown",
   "id": "e8348595",
   "metadata": {},
   "source": [
    "We started by looking at the dataset in UCI ML Repository dataset. Upon downloading, we encountered some issues with the .arff file. So we searched on the web to see if the same dataset was available in CSV format, and someone converted the same dataset into CSV in Kaggle, so we used that for processing. The data has about 400 rows/entries and 25 columns/features. Overall, the dataset has 11 numerical and 14 categorical columns."
   ]
  },
  {
   "cell_type": "markdown",
   "id": "7937e772",
   "metadata": {},
   "source": [
    "Urinary and blood biomarkers such as **serum creatinine**, **albumin**, **specific gravity**, **hemoglobin**, **red blood cell counts**, and **packed cell volume** are strong indicators in detecting whether a patient has CKD or not."
   ]
  },
  {
   "cell_type": "markdown",
   "id": "e7a870d8",
   "metadata": {},
   "source": [
    "#### ML Analyses"
   ]
  },
  {
   "cell_type": "markdown",
   "id": "7343aa94",
   "metadata": {},
   "source": [
    "For first analysis, we used supervised binary classification to predict whether a patient has Chronic Kidney Disease (CKD). Serum creatinine, albumin, hemoglobin, and red blood cell counts consistently emerged as strong predictors of CKD, as identified through EDA and confirmed across multiple model trainings. In contrast, packed cell volume and specific gravity showed weaker predictive power. For second analysis, we used Gradient-Boosted Decision Trees with SHAP Explainability. Although the test performance was moderate (Test AUROC: 0.447, 95 % CI: 0.338 – 0.558), SHAP analysis effectively highlighted key biomarkers such as serum creatinine (sc), albumin (al), blood urea (bu), and hemoglobin (hemo), along with subtle feature interactions."
   ]
  },
  {
   "cell_type": "code",
   "execution_count": 51,
   "id": "cc76bb93-1d6d-4927-b3a1-4f821de9af3e",
   "metadata": {},
   "outputs": [],
   "source": [
    "import pandas as pd\n",
    "import seaborn as sns\n",
    "%matplotlib inline\n",
    "import matplotlib.pyplot as plt\n",
    "from sklearn.model_selection import train_test_split, RandomizedSearchCV, StratifiedKFold\n",
    "from sklearn.linear_model import LogisticRegression\n",
    "from sklearn.metrics import accuracy_score, confusion_matrix, classification_report\n",
    "from sklearn.preprocessing import LabelEncoder, OneHotEncoder, StandardScaler\n",
    "from sklearn.dummy import DummyClassifier\n",
    "from sklearn.utils import resample\n",
    "from sklearn.compose import ColumnTransformer\n",
    "from sklearn.impute import SimpleImputer\n",
    "import numpy as np\n",
    "from sklearn.pipeline import Pipeline\n",
    "from xgboost import XGBClassifier\n",
    "from sklearn.calibration import CalibratedClassifierCV\n",
    "from sklearn.metrics import (accuracy_score, confusion_matrix, roc_auc_score, precision_recall_curve,\n",
    "                             RocCurveDisplay, ConfusionMatrixDisplay, classification_report)\n",
    "import shap\n"
   ]
  },
  {
   "cell_type": "markdown",
   "id": "522a1aeb-7449-47fb-939d-d155e46bc029",
   "metadata": {},
   "source": [
    "We tried downloading the data from the UCI ML Repository, but the .arff file with the data had several issues. However, someone had already converted this data into .csv in Kaggle.\n",
    "I decided to use the kaggle data due to convenience. I also did check for any discrepencies.\n",
    "\n",
    "[Stack Overflow post](https://stackoverflow.com/questions/62653514/open-an-arff-file-with-scipy-io/66939746#66939746)"
   ]
  },
  {
   "cell_type": "code",
   "execution_count": 52,
   "id": "2867fb6f-f540-4aca-93c4-83e8f1dfe21f",
   "metadata": {},
   "outputs": [
    {
     "data": {
      "text/html": [
       "<div>\n",
       "<style scoped>\n",
       "    .dataframe tbody tr th:only-of-type {\n",
       "        vertical-align: middle;\n",
       "    }\n",
       "\n",
       "    .dataframe tbody tr th {\n",
       "        vertical-align: top;\n",
       "    }\n",
       "\n",
       "    .dataframe thead th {\n",
       "        text-align: right;\n",
       "    }\n",
       "</style>\n",
       "<table border=\"1\" class=\"dataframe\">\n",
       "  <thead>\n",
       "    <tr style=\"text-align: right;\">\n",
       "      <th></th>\n",
       "      <th>age</th>\n",
       "      <th>bp</th>\n",
       "      <th>sg</th>\n",
       "      <th>al</th>\n",
       "      <th>su</th>\n",
       "      <th>rbc</th>\n",
       "      <th>pc</th>\n",
       "      <th>pcc</th>\n",
       "      <th>ba</th>\n",
       "      <th>bgr</th>\n",
       "      <th>...</th>\n",
       "      <th>pcv</th>\n",
       "      <th>wc</th>\n",
       "      <th>rc</th>\n",
       "      <th>htn</th>\n",
       "      <th>dm</th>\n",
       "      <th>cad</th>\n",
       "      <th>appet</th>\n",
       "      <th>pe</th>\n",
       "      <th>ane</th>\n",
       "      <th>classification</th>\n",
       "    </tr>\n",
       "  </thead>\n",
       "  <tbody>\n",
       "    <tr>\n",
       "      <th>0</th>\n",
       "      <td>48.0</td>\n",
       "      <td>80.0</td>\n",
       "      <td>1.020</td>\n",
       "      <td>1.0</td>\n",
       "      <td>0.0</td>\n",
       "      <td>NaN</td>\n",
       "      <td>normal</td>\n",
       "      <td>notpresent</td>\n",
       "      <td>notpresent</td>\n",
       "      <td>121.0</td>\n",
       "      <td>...</td>\n",
       "      <td>44</td>\n",
       "      <td>7800</td>\n",
       "      <td>5.2</td>\n",
       "      <td>yes</td>\n",
       "      <td>yes</td>\n",
       "      <td>no</td>\n",
       "      <td>good</td>\n",
       "      <td>no</td>\n",
       "      <td>no</td>\n",
       "      <td>ckd</td>\n",
       "    </tr>\n",
       "    <tr>\n",
       "      <th>1</th>\n",
       "      <td>7.0</td>\n",
       "      <td>50.0</td>\n",
       "      <td>1.020</td>\n",
       "      <td>4.0</td>\n",
       "      <td>0.0</td>\n",
       "      <td>NaN</td>\n",
       "      <td>normal</td>\n",
       "      <td>notpresent</td>\n",
       "      <td>notpresent</td>\n",
       "      <td>NaN</td>\n",
       "      <td>...</td>\n",
       "      <td>38</td>\n",
       "      <td>6000</td>\n",
       "      <td>NaN</td>\n",
       "      <td>no</td>\n",
       "      <td>no</td>\n",
       "      <td>no</td>\n",
       "      <td>good</td>\n",
       "      <td>no</td>\n",
       "      <td>no</td>\n",
       "      <td>ckd</td>\n",
       "    </tr>\n",
       "    <tr>\n",
       "      <th>2</th>\n",
       "      <td>62.0</td>\n",
       "      <td>80.0</td>\n",
       "      <td>1.010</td>\n",
       "      <td>2.0</td>\n",
       "      <td>3.0</td>\n",
       "      <td>normal</td>\n",
       "      <td>normal</td>\n",
       "      <td>notpresent</td>\n",
       "      <td>notpresent</td>\n",
       "      <td>423.0</td>\n",
       "      <td>...</td>\n",
       "      <td>31</td>\n",
       "      <td>7500</td>\n",
       "      <td>NaN</td>\n",
       "      <td>no</td>\n",
       "      <td>yes</td>\n",
       "      <td>no</td>\n",
       "      <td>poor</td>\n",
       "      <td>no</td>\n",
       "      <td>yes</td>\n",
       "      <td>ckd</td>\n",
       "    </tr>\n",
       "    <tr>\n",
       "      <th>3</th>\n",
       "      <td>48.0</td>\n",
       "      <td>70.0</td>\n",
       "      <td>1.005</td>\n",
       "      <td>4.0</td>\n",
       "      <td>0.0</td>\n",
       "      <td>normal</td>\n",
       "      <td>abnormal</td>\n",
       "      <td>present</td>\n",
       "      <td>notpresent</td>\n",
       "      <td>117.0</td>\n",
       "      <td>...</td>\n",
       "      <td>32</td>\n",
       "      <td>6700</td>\n",
       "      <td>3.9</td>\n",
       "      <td>yes</td>\n",
       "      <td>no</td>\n",
       "      <td>no</td>\n",
       "      <td>poor</td>\n",
       "      <td>yes</td>\n",
       "      <td>yes</td>\n",
       "      <td>ckd</td>\n",
       "    </tr>\n",
       "    <tr>\n",
       "      <th>4</th>\n",
       "      <td>51.0</td>\n",
       "      <td>80.0</td>\n",
       "      <td>1.010</td>\n",
       "      <td>2.0</td>\n",
       "      <td>0.0</td>\n",
       "      <td>normal</td>\n",
       "      <td>normal</td>\n",
       "      <td>notpresent</td>\n",
       "      <td>notpresent</td>\n",
       "      <td>106.0</td>\n",
       "      <td>...</td>\n",
       "      <td>35</td>\n",
       "      <td>7300</td>\n",
       "      <td>4.6</td>\n",
       "      <td>no</td>\n",
       "      <td>no</td>\n",
       "      <td>no</td>\n",
       "      <td>good</td>\n",
       "      <td>no</td>\n",
       "      <td>no</td>\n",
       "      <td>ckd</td>\n",
       "    </tr>\n",
       "    <tr>\n",
       "      <th>...</th>\n",
       "      <td>...</td>\n",
       "      <td>...</td>\n",
       "      <td>...</td>\n",
       "      <td>...</td>\n",
       "      <td>...</td>\n",
       "      <td>...</td>\n",
       "      <td>...</td>\n",
       "      <td>...</td>\n",
       "      <td>...</td>\n",
       "      <td>...</td>\n",
       "      <td>...</td>\n",
       "      <td>...</td>\n",
       "      <td>...</td>\n",
       "      <td>...</td>\n",
       "      <td>...</td>\n",
       "      <td>...</td>\n",
       "      <td>...</td>\n",
       "      <td>...</td>\n",
       "      <td>...</td>\n",
       "      <td>...</td>\n",
       "      <td>...</td>\n",
       "    </tr>\n",
       "    <tr>\n",
       "      <th>395</th>\n",
       "      <td>55.0</td>\n",
       "      <td>80.0</td>\n",
       "      <td>1.020</td>\n",
       "      <td>0.0</td>\n",
       "      <td>0.0</td>\n",
       "      <td>normal</td>\n",
       "      <td>normal</td>\n",
       "      <td>notpresent</td>\n",
       "      <td>notpresent</td>\n",
       "      <td>140.0</td>\n",
       "      <td>...</td>\n",
       "      <td>47</td>\n",
       "      <td>6700</td>\n",
       "      <td>4.9</td>\n",
       "      <td>no</td>\n",
       "      <td>no</td>\n",
       "      <td>no</td>\n",
       "      <td>good</td>\n",
       "      <td>no</td>\n",
       "      <td>no</td>\n",
       "      <td>notckd</td>\n",
       "    </tr>\n",
       "    <tr>\n",
       "      <th>396</th>\n",
       "      <td>42.0</td>\n",
       "      <td>70.0</td>\n",
       "      <td>1.025</td>\n",
       "      <td>0.0</td>\n",
       "      <td>0.0</td>\n",
       "      <td>normal</td>\n",
       "      <td>normal</td>\n",
       "      <td>notpresent</td>\n",
       "      <td>notpresent</td>\n",
       "      <td>75.0</td>\n",
       "      <td>...</td>\n",
       "      <td>54</td>\n",
       "      <td>7800</td>\n",
       "      <td>6.2</td>\n",
       "      <td>no</td>\n",
       "      <td>no</td>\n",
       "      <td>no</td>\n",
       "      <td>good</td>\n",
       "      <td>no</td>\n",
       "      <td>no</td>\n",
       "      <td>notckd</td>\n",
       "    </tr>\n",
       "    <tr>\n",
       "      <th>397</th>\n",
       "      <td>12.0</td>\n",
       "      <td>80.0</td>\n",
       "      <td>1.020</td>\n",
       "      <td>0.0</td>\n",
       "      <td>0.0</td>\n",
       "      <td>normal</td>\n",
       "      <td>normal</td>\n",
       "      <td>notpresent</td>\n",
       "      <td>notpresent</td>\n",
       "      <td>100.0</td>\n",
       "      <td>...</td>\n",
       "      <td>49</td>\n",
       "      <td>6600</td>\n",
       "      <td>5.4</td>\n",
       "      <td>no</td>\n",
       "      <td>no</td>\n",
       "      <td>no</td>\n",
       "      <td>good</td>\n",
       "      <td>no</td>\n",
       "      <td>no</td>\n",
       "      <td>notckd</td>\n",
       "    </tr>\n",
       "    <tr>\n",
       "      <th>398</th>\n",
       "      <td>17.0</td>\n",
       "      <td>60.0</td>\n",
       "      <td>1.025</td>\n",
       "      <td>0.0</td>\n",
       "      <td>0.0</td>\n",
       "      <td>normal</td>\n",
       "      <td>normal</td>\n",
       "      <td>notpresent</td>\n",
       "      <td>notpresent</td>\n",
       "      <td>114.0</td>\n",
       "      <td>...</td>\n",
       "      <td>51</td>\n",
       "      <td>7200</td>\n",
       "      <td>5.9</td>\n",
       "      <td>no</td>\n",
       "      <td>no</td>\n",
       "      <td>no</td>\n",
       "      <td>good</td>\n",
       "      <td>no</td>\n",
       "      <td>no</td>\n",
       "      <td>notckd</td>\n",
       "    </tr>\n",
       "    <tr>\n",
       "      <th>399</th>\n",
       "      <td>58.0</td>\n",
       "      <td>80.0</td>\n",
       "      <td>1.025</td>\n",
       "      <td>0.0</td>\n",
       "      <td>0.0</td>\n",
       "      <td>normal</td>\n",
       "      <td>normal</td>\n",
       "      <td>notpresent</td>\n",
       "      <td>notpresent</td>\n",
       "      <td>131.0</td>\n",
       "      <td>...</td>\n",
       "      <td>53</td>\n",
       "      <td>6800</td>\n",
       "      <td>6.1</td>\n",
       "      <td>no</td>\n",
       "      <td>no</td>\n",
       "      <td>no</td>\n",
       "      <td>good</td>\n",
       "      <td>no</td>\n",
       "      <td>no</td>\n",
       "      <td>notckd</td>\n",
       "    </tr>\n",
       "  </tbody>\n",
       "</table>\n",
       "<p>400 rows × 25 columns</p>\n",
       "</div>"
      ],
      "text/plain": [
       "      age    bp     sg   al   su     rbc        pc         pcc          ba  \\\n",
       "0    48.0  80.0  1.020  1.0  0.0     NaN    normal  notpresent  notpresent   \n",
       "1     7.0  50.0  1.020  4.0  0.0     NaN    normal  notpresent  notpresent   \n",
       "2    62.0  80.0  1.010  2.0  3.0  normal    normal  notpresent  notpresent   \n",
       "3    48.0  70.0  1.005  4.0  0.0  normal  abnormal     present  notpresent   \n",
       "4    51.0  80.0  1.010  2.0  0.0  normal    normal  notpresent  notpresent   \n",
       "..    ...   ...    ...  ...  ...     ...       ...         ...         ...   \n",
       "395  55.0  80.0  1.020  0.0  0.0  normal    normal  notpresent  notpresent   \n",
       "396  42.0  70.0  1.025  0.0  0.0  normal    normal  notpresent  notpresent   \n",
       "397  12.0  80.0  1.020  0.0  0.0  normal    normal  notpresent  notpresent   \n",
       "398  17.0  60.0  1.025  0.0  0.0  normal    normal  notpresent  notpresent   \n",
       "399  58.0  80.0  1.025  0.0  0.0  normal    normal  notpresent  notpresent   \n",
       "\n",
       "       bgr  ...  pcv    wc   rc  htn   dm cad appet   pe  ane classification  \n",
       "0    121.0  ...   44  7800  5.2  yes  yes  no  good   no   no            ckd  \n",
       "1      NaN  ...   38  6000  NaN   no   no  no  good   no   no            ckd  \n",
       "2    423.0  ...   31  7500  NaN   no  yes  no  poor   no  yes            ckd  \n",
       "3    117.0  ...   32  6700  3.9  yes   no  no  poor  yes  yes            ckd  \n",
       "4    106.0  ...   35  7300  4.6   no   no  no  good   no   no            ckd  \n",
       "..     ...  ...  ...   ...  ...  ...  ...  ..   ...  ...  ...            ...  \n",
       "395  140.0  ...   47  6700  4.9   no   no  no  good   no   no         notckd  \n",
       "396   75.0  ...   54  7800  6.2   no   no  no  good   no   no         notckd  \n",
       "397  100.0  ...   49  6600  5.4   no   no  no  good   no   no         notckd  \n",
       "398  114.0  ...   51  7200  5.9   no   no  no  good   no   no         notckd  \n",
       "399  131.0  ...   53  6800  6.1   no   no  no  good   no   no         notckd  \n",
       "\n",
       "[400 rows x 25 columns]"
      ]
     },
     "execution_count": 52,
     "metadata": {},
     "output_type": "execute_result"
    }
   ],
   "source": [
    "df = pd.read_csv(\"chronic_kidney_disease.csv\")\n",
    "\n",
    "# dropping the redundant id feature\n",
    "df = df.drop('id', axis=1)\n",
    "\n",
    "df"
   ]
  },
  {
   "cell_type": "code",
   "execution_count": 53,
   "id": "be00c61f-b6bd-4ae7-a0a2-75ca1d44c8df",
   "metadata": {},
   "outputs": [
    {
     "data": {
      "text/plain": [
       "(400, 25)"
      ]
     },
     "execution_count": 53,
     "metadata": {},
     "output_type": "execute_result"
    }
   ],
   "source": [
    "df.shape"
   ]
  },
  {
   "cell_type": "raw",
   "id": "46ce6930-993b-4e3a-9849-1ad110a9605b",
   "metadata": {},
   "source": [
    "The columns are labeled as follows (from the UCI dataset .txt file): \n",
    "\n",
    " \t1.Age(numerical): age in years\n",
    " \t2.Blood Pressure(numerical): bp in mm/Hg\n",
    " \t3.Specific Gravity(nominal): sg - (1.005,1.010,1.015,1.020,1.025)\n",
    " \t4.Albumin(nominal): al - (0,1,2,3,4,5)\n",
    " \t5.Sugar(nominal): su - (0,1,2,3,4,5)\n",
    " \t6.Red Blood Cells(nominal): rbc - (normal,abnormal)\n",
    " \t7.Pus Cell (nominal): pc - (normal,abnormal)\n",
    " \t8.Pus Cell clumps(nominal): pcc - (present,notpresent)\n",
    " \t9.Bacteria(nominal): ba  - (present,notpresent)\n",
    " \t10.Blood Glucose Random(numerical): bgr in mgs/dl\n",
    " \t11.Blood Urea(numerical): bu in mgs/dl\n",
    " \t12.Serum Creatinine(numerical): sc in mgs/dl\n",
    " \t13.Sodium(numerical): sod in mEq/L\n",
    " \t14.Potassium(numerical): pot in mEq/L\n",
    " \t15.Hemoglobin(numerical): hemo in gms\n",
    " \t16.Packed Cell Volume(numerical)\n",
    " \t17.White Blood Cell Count(numerical): wc in cells/cumm\n",
    " \t18.Red Blood Cell Count(numerical): rc in millions/cmm\n",
    " \t19.Hypertension(nominal): htn - (yes,no)\n",
    " \t20.Diabetes Mellitus(nominal): dm - (yes,no)\n",
    " \t21.Coronary Artery Disease(nominal): cad - (yes,no)\n",
    " \t22.Appetite(nominal): appet - (good,poor)\n",
    " \t23.Pedal Edema(nominal): pe - (yes,no)\t\n",
    " \t24.Anemia(nominal): ane - (yes,no)\n",
    " \t25.Class (nominal): class - (ckd, notckd)"
   ]
  },
  {
   "cell_type": "code",
   "execution_count": 54,
   "id": "3d4c2115-daa8-4885-a982-6ef4b63e6067",
   "metadata": {},
   "outputs": [
    {
     "name": "stdout",
     "output_type": "stream",
     "text": [
      "<class 'pandas.core.frame.DataFrame'>\n",
      "RangeIndex: 400 entries, 0 to 399\n",
      "Data columns (total 25 columns):\n",
      " #   Column          Non-Null Count  Dtype  \n",
      "---  ------          --------------  -----  \n",
      " 0   age             391 non-null    float64\n",
      " 1   bp              388 non-null    float64\n",
      " 2   sg              353 non-null    float64\n",
      " 3   al              354 non-null    float64\n",
      " 4   su              351 non-null    float64\n",
      " 5   rbc             248 non-null    object \n",
      " 6   pc              335 non-null    object \n",
      " 7   pcc             396 non-null    object \n",
      " 8   ba              396 non-null    object \n",
      " 9   bgr             356 non-null    float64\n",
      " 10  bu              381 non-null    float64\n",
      " 11  sc              383 non-null    float64\n",
      " 12  sod             313 non-null    float64\n",
      " 13  pot             312 non-null    float64\n",
      " 14  hemo            348 non-null    float64\n",
      " 15  pcv             330 non-null    object \n",
      " 16  wc              295 non-null    object \n",
      " 17  rc              270 non-null    object \n",
      " 18  htn             398 non-null    object \n",
      " 19  dm              398 non-null    object \n",
      " 20  cad             398 non-null    object \n",
      " 21  appet           399 non-null    object \n",
      " 22  pe              399 non-null    object \n",
      " 23  ane             399 non-null    object \n",
      " 24  classification  400 non-null    object \n",
      "dtypes: float64(11), object(14)\n",
      "memory usage: 78.2+ KB\n"
     ]
    }
   ],
   "source": [
    "df.info()"
   ]
  },
  {
   "cell_type": "code",
   "execution_count": 55,
   "id": "8c3c4e5a-47c8-47a4-8eeb-f350af4abf1f",
   "metadata": {},
   "outputs": [],
   "source": [
    "# pcv, wc, and rc are actually numerical. \n",
    "df['pcv'] = pd.to_numeric(df['pcv'], errors='coerce')\n",
    "df['wc'] = pd.to_numeric(df['wc'], errors='coerce')\n",
    "df['rc'] = pd.to_numeric(df['rc'], errors='coerce')\n",
    "\n",
    "# sg, al, su are categorical\n",
    "categorical_cols = ['sg', 'al', 'su']\n",
    "df[categorical_cols] = df[categorical_cols].astype('object')"
   ]
  },
  {
   "cell_type": "code",
   "execution_count": 56,
   "id": "501450d7-7824-4fd4-9c33-6380fad931aa",
   "metadata": {},
   "outputs": [
    {
     "name": "stdout",
     "output_type": "stream",
     "text": [
      "<class 'pandas.core.frame.DataFrame'>\n",
      "RangeIndex: 400 entries, 0 to 399\n",
      "Data columns (total 25 columns):\n",
      " #   Column          Non-Null Count  Dtype  \n",
      "---  ------          --------------  -----  \n",
      " 0   age             391 non-null    float64\n",
      " 1   bp              388 non-null    float64\n",
      " 2   sg              353 non-null    object \n",
      " 3   al              354 non-null    object \n",
      " 4   su              351 non-null    object \n",
      " 5   rbc             248 non-null    object \n",
      " 6   pc              335 non-null    object \n",
      " 7   pcc             396 non-null    object \n",
      " 8   ba              396 non-null    object \n",
      " 9   bgr             356 non-null    float64\n",
      " 10  bu              381 non-null    float64\n",
      " 11  sc              383 non-null    float64\n",
      " 12  sod             313 non-null    float64\n",
      " 13  pot             312 non-null    float64\n",
      " 14  hemo            348 non-null    float64\n",
      " 15  pcv             329 non-null    float64\n",
      " 16  wc              294 non-null    float64\n",
      " 17  rc              269 non-null    float64\n",
      " 18  htn             398 non-null    object \n",
      " 19  dm              398 non-null    object \n",
      " 20  cad             398 non-null    object \n",
      " 21  appet           399 non-null    object \n",
      " 22  pe              399 non-null    object \n",
      " 23  ane             399 non-null    object \n",
      " 24  classification  400 non-null    object \n",
      "dtypes: float64(11), object(14)\n",
      "memory usage: 78.2+ KB\n"
     ]
    }
   ],
   "source": [
    "df.info()"
   ]
  },
  {
   "cell_type": "code",
   "execution_count": 57,
   "id": "8b408c8f-6a27-424b-936b-9c814b484724",
   "metadata": {},
   "outputs": [
    {
     "data": {
      "text/plain": [
       "0"
      ]
     },
     "execution_count": 57,
     "metadata": {},
     "output_type": "execute_result"
    }
   ],
   "source": [
    "# Checking for duplicated data\n",
    "df.duplicated().sum()"
   ]
  },
  {
   "cell_type": "code",
   "execution_count": 58,
   "id": "20b01cfa-5ea6-4cd8-a0d5-f79cf5b30070",
   "metadata": {},
   "outputs": [
    {
     "data": {
      "text/plain": [
       "age                76\n",
       "bp                 10\n",
       "sg                  5\n",
       "al                  6\n",
       "su                  6\n",
       "rbc                 2\n",
       "pc                  2\n",
       "pcc                 2\n",
       "ba                  2\n",
       "bgr               146\n",
       "bu                118\n",
       "sc                 84\n",
       "sod                34\n",
       "pot                40\n",
       "hemo              115\n",
       "pcv                42\n",
       "wc                 89\n",
       "rc                 45\n",
       "htn                 2\n",
       "dm                  3\n",
       "cad                 2\n",
       "appet               2\n",
       "pe                  2\n",
       "ane                 2\n",
       "classification      2\n",
       "dtype: int64"
      ]
     },
     "execution_count": 58,
     "metadata": {},
     "output_type": "execute_result"
    }
   ],
   "source": [
    "# unique values per feature\n",
    "df.nunique()"
   ]
  },
  {
   "cell_type": "markdown",
   "id": "bc0db97d-81d8-46ff-bfa9-78a5e84025cc",
   "metadata": {},
   "source": [
    "I noticed that data that should only have 2 unique values has more than 2 such as cad, classification, and dm. Upon further inspection in the .csv file, there are trailing spaces in some rows. So, below I remove those spaces:"
   ]
  },
  {
   "cell_type": "code",
   "execution_count": 59,
   "id": "16adcdaf-e412-41f8-b91e-fead6f6a26f2",
   "metadata": {},
   "outputs": [
    {
     "name": "stdout",
     "output_type": "stream",
     "text": [
      "['ckd' 'notckd']\n"
     ]
    }
   ],
   "source": [
    "df = df.apply(lambda x: x.strip() if isinstance(x, str) else x)\n",
    "print(df['classification'].unique())\n"
   ]
  },
  {
   "cell_type": "code",
   "execution_count": 60,
   "id": "8cc4f5dd-5bfb-43f0-abf1-2c557d74c62f",
   "metadata": {},
   "outputs": [
    {
     "data": {
      "text/plain": [
       "age                76\n",
       "bp                 10\n",
       "sg                  5\n",
       "al                  6\n",
       "su                  6\n",
       "rbc                 2\n",
       "pc                  2\n",
       "pcc                 2\n",
       "ba                  2\n",
       "bgr               146\n",
       "bu                118\n",
       "sc                 84\n",
       "sod                34\n",
       "pot                40\n",
       "hemo              115\n",
       "pcv                42\n",
       "wc                 89\n",
       "rc                 45\n",
       "htn                 2\n",
       "dm                  3\n",
       "cad                 2\n",
       "appet               2\n",
       "pe                  2\n",
       "ane                 2\n",
       "classification      2\n",
       "dtype: int64"
      ]
     },
     "execution_count": 60,
     "metadata": {},
     "output_type": "execute_result"
    }
   ],
   "source": [
    "df.nunique()"
   ]
  },
  {
   "cell_type": "markdown",
   "id": "83be7b66-d121-446d-bf36-ba5d7aafecb1",
   "metadata": {},
   "source": [
    "Below shows how many values are missing per column. I noticed that a lot of rows were missing information about red blood cells (rbc), red blood cell count (rc), and white blood cell count (wc)..."
   ]
  },
  {
   "cell_type": "code",
   "execution_count": 61,
   "id": "1e239bc9-5c11-4c1b-8458-21bb9aacb266",
   "metadata": {},
   "outputs": [
    {
     "data": {
      "text/plain": [
       "age                2.25\n",
       "bp                 3.00\n",
       "sg                11.75\n",
       "al                11.50\n",
       "su                12.25\n",
       "rbc               38.00\n",
       "pc                16.25\n",
       "pcc                1.00\n",
       "ba                 1.00\n",
       "bgr               11.00\n",
       "bu                 4.75\n",
       "sc                 4.25\n",
       "sod               21.75\n",
       "pot               22.00\n",
       "hemo              13.00\n",
       "pcv               17.75\n",
       "wc                26.50\n",
       "rc                32.75\n",
       "htn                0.50\n",
       "dm                 0.50\n",
       "cad                0.50\n",
       "appet              0.25\n",
       "pe                 0.25\n",
       "ane                0.25\n",
       "classification     0.00\n",
       "dtype: float64"
      ]
     },
     "execution_count": 61,
     "metadata": {},
     "output_type": "execute_result"
    }
   ],
   "source": [
    "# Percentage of missing data/rows per feature\n",
    "df.isnull().sum() / df.shape[0] * 100"
   ]
  },
  {
   "cell_type": "code",
   "execution_count": 62,
   "id": "d08cc5af-60e2-42d5-911a-2bbea5b9aa1d",
   "metadata": {},
   "outputs": [],
   "source": [
    "# spiltting cols into numerical and catergorical for later analysis?\n",
    "numerical_cols = ['age', 'bp', 'bgr', 'bu', 'sc', 'sod', 'pot', 'hemo', 'pcv', 'wc', 'rc']\n",
    "df_numeric = df[numerical_cols]\n",
    "\n",
    "categorical_cols = ['sg', 'al', 'su', 'rbc', 'pc', 'pcc', 'ba', 'htn', 'dm', 'cad', 'appet', 'pe', 'ane', 'classification']\n",
    "df_categorical = df[categorical_cols]"
   ]
  },
  {
   "cell_type": "code",
   "execution_count": 63,
   "id": "3e7af054-d9db-46b0-b01b-bc0d54122c7e",
   "metadata": {},
   "outputs": [],
   "source": [
    "# mode imputation on categorical data\n",
    "df['sg'] = df['sg'].fillna(df['sg'].mode()[0])\n",
    "df['al'] = df['al'].fillna(df['al'].mode()[0])\n",
    "df['su'] = df['su'].fillna(df['su'].mode()[0])\n",
    "df['pc'] = df['pc'].fillna(df['pc'].mode()[0])\n",
    "df['pcc'] = df['pcc'].fillna(df['pcc'].mode()[0])\n",
    "df['ba'] = df['ba'].fillna(df['ba'].mode()[0])\n",
    "df['htn'] = df['htn'].fillna(df['htn'].mode()[0])\n",
    "df['cad'] = df['cad'].fillna(df['cad'].mode()[0])\n",
    "df['appet'] = df['appet'].fillna(df['appet'].mode()[0])\n",
    "df['htn'] = df['htn'].fillna(df['htn'].mode()[0])\n",
    "df['cad'] = df['cad'].fillna(df['cad'].mode()[0])\n",
    "df['dm'] = df['dm'].fillna(df['dm'].mode()[0])\n",
    "df['appet'] = df['appet'].fillna(df['appet'].mode()[0])\n",
    "df['pe'] = df['pe'].fillna(df['pe'].mode()[0])\n",
    "df['ane'] = df['ane'].fillna(df['ane'].mode()[0])"
   ]
  },
  {
   "cell_type": "code",
   "execution_count": 64,
   "id": "35ef16d9-3b80-4b9a-ab3d-7332211f27bb",
   "metadata": {},
   "outputs": [
    {
     "name": "stdout",
     "output_type": "stream",
     "text": [
      "<class 'pandas.core.frame.DataFrame'>\n",
      "RangeIndex: 400 entries, 0 to 399\n",
      "Data columns (total 25 columns):\n",
      " #   Column          Non-Null Count  Dtype  \n",
      "---  ------          --------------  -----  \n",
      " 0   age             391 non-null    float64\n",
      " 1   bp              388 non-null    float64\n",
      " 2   sg              400 non-null    float64\n",
      " 3   al              400 non-null    float64\n",
      " 4   su              400 non-null    float64\n",
      " 5   rbc             248 non-null    object \n",
      " 6   pc              400 non-null    object \n",
      " 7   pcc             400 non-null    object \n",
      " 8   ba              400 non-null    object \n",
      " 9   bgr             356 non-null    float64\n",
      " 10  bu              381 non-null    float64\n",
      " 11  sc              383 non-null    float64\n",
      " 12  sod             313 non-null    float64\n",
      " 13  pot             312 non-null    float64\n",
      " 14  hemo            348 non-null    float64\n",
      " 15  pcv             329 non-null    float64\n",
      " 16  wc              294 non-null    float64\n",
      " 17  rc              269 non-null    float64\n",
      " 18  htn             400 non-null    object \n",
      " 19  dm              400 non-null    object \n",
      " 20  cad             400 non-null    object \n",
      " 21  appet           400 non-null    object \n",
      " 22  pe              400 non-null    object \n",
      " 23  ane             400 non-null    object \n",
      " 24  classification  400 non-null    object \n",
      "dtypes: float64(14), object(11)\n",
      "memory usage: 78.2+ KB\n"
     ]
    }
   ],
   "source": [
    "df.info()"
   ]
  },
  {
   "cell_type": "code",
   "execution_count": 65,
   "id": "9ae8c6a5-1bc7-46da-8a9e-e27f35ebdcbe",
   "metadata": {},
   "outputs": [
    {
     "name": "stdout",
     "output_type": "stream",
     "text": [
      "age     -0.668259\n",
      "bp       1.605429\n",
      "bgr      2.010773\n",
      "bu       2.634374\n",
      "sc       7.509538\n",
      "sod     -6.996569\n",
      "pot     11.582956\n",
      "hemo    -0.335095\n",
      "pcv     -0.433679\n",
      "wc       1.621589\n",
      "rc      -0.183329\n",
      "dtype: float64\n"
     ]
    }
   ],
   "source": [
    "skewness = df[numerical_cols].skew()\n",
    "print(skewness)"
   ]
  },
  {
   "cell_type": "code",
   "execution_count": 66,
   "id": "5eda517e-305c-496f-8c8d-765ebf65d6c8",
   "metadata": {},
   "outputs": [],
   "source": [
    "# Imputation on numerical data either mean/median depending on outliers\n",
    "# Impute with mean when almost symmetric data, impute with median when skewed data\n",
    "# I'm not sure if this is the right approach either... I have a feeling it's not...\n",
    "# Also, I think if someone is reading this,\n",
    "# I would like to drop any data that has more than 70% feature info missing, like row 31 in the csv\n",
    "\n",
    "cols = ['age', 'bp', 'bgr', 'bu', 'sc', 'sod', 'pot', 'hemo', 'pcv', 'wc', 'rc']\n",
    "\n",
    "for col in cols:\n",
    "    df[col] = df[col].fillna(df[col].mean())"
   ]
  },
  {
   "cell_type": "code",
   "execution_count": 67,
   "id": "510dfe3b-a221-42da-871c-88e22d2fe90c",
   "metadata": {},
   "outputs": [
    {
     "data": {
      "text/html": [
       "<div>\n",
       "<style scoped>\n",
       "    .dataframe tbody tr th:only-of-type {\n",
       "        vertical-align: middle;\n",
       "    }\n",
       "\n",
       "    .dataframe tbody tr th {\n",
       "        vertical-align: top;\n",
       "    }\n",
       "\n",
       "    .dataframe thead th {\n",
       "        text-align: right;\n",
       "    }\n",
       "</style>\n",
       "<table border=\"1\" class=\"dataframe\">\n",
       "  <thead>\n",
       "    <tr style=\"text-align: right;\">\n",
       "      <th></th>\n",
       "      <th>age</th>\n",
       "      <th>bp</th>\n",
       "      <th>sg</th>\n",
       "      <th>al</th>\n",
       "      <th>su</th>\n",
       "      <th>bgr</th>\n",
       "      <th>bu</th>\n",
       "      <th>sc</th>\n",
       "      <th>sod</th>\n",
       "      <th>pot</th>\n",
       "      <th>hemo</th>\n",
       "      <th>pcv</th>\n",
       "      <th>wc</th>\n",
       "      <th>rc</th>\n",
       "    </tr>\n",
       "  </thead>\n",
       "  <tbody>\n",
       "    <tr>\n",
       "      <th>count</th>\n",
       "      <td>400.000000</td>\n",
       "      <td>400.000000</td>\n",
       "      <td>400.000000</td>\n",
       "      <td>400.00000</td>\n",
       "      <td>400.000000</td>\n",
       "      <td>400.000000</td>\n",
       "      <td>400.000000</td>\n",
       "      <td>400.000000</td>\n",
       "      <td>400.000000</td>\n",
       "      <td>400.000000</td>\n",
       "      <td>400.000000</td>\n",
       "      <td>400.000000</td>\n",
       "      <td>400.000000</td>\n",
       "      <td>400.000000</td>\n",
       "    </tr>\n",
       "    <tr>\n",
       "      <th>mean</th>\n",
       "      <td>51.483376</td>\n",
       "      <td>76.469072</td>\n",
       "      <td>1.017712</td>\n",
       "      <td>0.90000</td>\n",
       "      <td>0.395000</td>\n",
       "      <td>148.036517</td>\n",
       "      <td>57.425722</td>\n",
       "      <td>3.072454</td>\n",
       "      <td>137.528754</td>\n",
       "      <td>4.627244</td>\n",
       "      <td>12.526437</td>\n",
       "      <td>38.884498</td>\n",
       "      <td>8406.122449</td>\n",
       "      <td>4.707435</td>\n",
       "    </tr>\n",
       "    <tr>\n",
       "      <th>std</th>\n",
       "      <td>16.974966</td>\n",
       "      <td>13.476298</td>\n",
       "      <td>0.005434</td>\n",
       "      <td>1.31313</td>\n",
       "      <td>1.040038</td>\n",
       "      <td>74.782634</td>\n",
       "      <td>49.285887</td>\n",
       "      <td>5.617490</td>\n",
       "      <td>9.204273</td>\n",
       "      <td>2.819783</td>\n",
       "      <td>2.716171</td>\n",
       "      <td>8.151081</td>\n",
       "      <td>2523.219976</td>\n",
       "      <td>0.840314</td>\n",
       "    </tr>\n",
       "    <tr>\n",
       "      <th>min</th>\n",
       "      <td>2.000000</td>\n",
       "      <td>50.000000</td>\n",
       "      <td>1.005000</td>\n",
       "      <td>0.00000</td>\n",
       "      <td>0.000000</td>\n",
       "      <td>22.000000</td>\n",
       "      <td>1.500000</td>\n",
       "      <td>0.400000</td>\n",
       "      <td>4.500000</td>\n",
       "      <td>2.500000</td>\n",
       "      <td>3.100000</td>\n",
       "      <td>9.000000</td>\n",
       "      <td>2200.000000</td>\n",
       "      <td>2.100000</td>\n",
       "    </tr>\n",
       "    <tr>\n",
       "      <th>25%</th>\n",
       "      <td>42.000000</td>\n",
       "      <td>70.000000</td>\n",
       "      <td>1.015000</td>\n",
       "      <td>0.00000</td>\n",
       "      <td>0.000000</td>\n",
       "      <td>101.000000</td>\n",
       "      <td>27.000000</td>\n",
       "      <td>0.900000</td>\n",
       "      <td>135.000000</td>\n",
       "      <td>4.000000</td>\n",
       "      <td>10.875000</td>\n",
       "      <td>34.000000</td>\n",
       "      <td>6975.000000</td>\n",
       "      <td>4.500000</td>\n",
       "    </tr>\n",
       "    <tr>\n",
       "      <th>50%</th>\n",
       "      <td>54.000000</td>\n",
       "      <td>78.234536</td>\n",
       "      <td>1.020000</td>\n",
       "      <td>0.00000</td>\n",
       "      <td>0.000000</td>\n",
       "      <td>126.000000</td>\n",
       "      <td>44.000000</td>\n",
       "      <td>1.400000</td>\n",
       "      <td>137.528754</td>\n",
       "      <td>4.627244</td>\n",
       "      <td>12.526437</td>\n",
       "      <td>38.884498</td>\n",
       "      <td>8406.122449</td>\n",
       "      <td>4.707435</td>\n",
       "    </tr>\n",
       "    <tr>\n",
       "      <th>75%</th>\n",
       "      <td>64.000000</td>\n",
       "      <td>80.000000</td>\n",
       "      <td>1.020000</td>\n",
       "      <td>2.00000</td>\n",
       "      <td>0.000000</td>\n",
       "      <td>150.000000</td>\n",
       "      <td>61.750000</td>\n",
       "      <td>3.072454</td>\n",
       "      <td>141.000000</td>\n",
       "      <td>4.800000</td>\n",
       "      <td>14.625000</td>\n",
       "      <td>44.000000</td>\n",
       "      <td>9400.000000</td>\n",
       "      <td>5.100000</td>\n",
       "    </tr>\n",
       "    <tr>\n",
       "      <th>max</th>\n",
       "      <td>90.000000</td>\n",
       "      <td>180.000000</td>\n",
       "      <td>1.025000</td>\n",
       "      <td>5.00000</td>\n",
       "      <td>5.000000</td>\n",
       "      <td>490.000000</td>\n",
       "      <td>391.000000</td>\n",
       "      <td>76.000000</td>\n",
       "      <td>163.000000</td>\n",
       "      <td>47.000000</td>\n",
       "      <td>17.800000</td>\n",
       "      <td>54.000000</td>\n",
       "      <td>26400.000000</td>\n",
       "      <td>8.000000</td>\n",
       "    </tr>\n",
       "  </tbody>\n",
       "</table>\n",
       "</div>"
      ],
      "text/plain": [
       "              age          bp          sg         al          su         bgr  \\\n",
       "count  400.000000  400.000000  400.000000  400.00000  400.000000  400.000000   \n",
       "mean    51.483376   76.469072    1.017712    0.90000    0.395000  148.036517   \n",
       "std     16.974966   13.476298    0.005434    1.31313    1.040038   74.782634   \n",
       "min      2.000000   50.000000    1.005000    0.00000    0.000000   22.000000   \n",
       "25%     42.000000   70.000000    1.015000    0.00000    0.000000  101.000000   \n",
       "50%     54.000000   78.234536    1.020000    0.00000    0.000000  126.000000   \n",
       "75%     64.000000   80.000000    1.020000    2.00000    0.000000  150.000000   \n",
       "max     90.000000  180.000000    1.025000    5.00000    5.000000  490.000000   \n",
       "\n",
       "               bu          sc         sod         pot        hemo         pcv  \\\n",
       "count  400.000000  400.000000  400.000000  400.000000  400.000000  400.000000   \n",
       "mean    57.425722    3.072454  137.528754    4.627244   12.526437   38.884498   \n",
       "std     49.285887    5.617490    9.204273    2.819783    2.716171    8.151081   \n",
       "min      1.500000    0.400000    4.500000    2.500000    3.100000    9.000000   \n",
       "25%     27.000000    0.900000  135.000000    4.000000   10.875000   34.000000   \n",
       "50%     44.000000    1.400000  137.528754    4.627244   12.526437   38.884498   \n",
       "75%     61.750000    3.072454  141.000000    4.800000   14.625000   44.000000   \n",
       "max    391.000000   76.000000  163.000000   47.000000   17.800000   54.000000   \n",
       "\n",
       "                 wc          rc  \n",
       "count    400.000000  400.000000  \n",
       "mean    8406.122449    4.707435  \n",
       "std     2523.219976    0.840314  \n",
       "min     2200.000000    2.100000  \n",
       "25%     6975.000000    4.500000  \n",
       "50%     8406.122449    4.707435  \n",
       "75%     9400.000000    5.100000  \n",
       "max    26400.000000    8.000000  "
      ]
     },
     "execution_count": 67,
     "metadata": {},
     "output_type": "execute_result"
    }
   ],
   "source": [
    "# descriptive statistics\n",
    "df.describe()"
   ]
  },
  {
   "cell_type": "code",
   "execution_count": 68,
   "id": "11b96397-17f5-4930-9df5-9eb86b739255",
   "metadata": {},
   "outputs": [
    {
     "data": {
      "text/html": [
       "<div>\n",
       "<style scoped>\n",
       "    .dataframe tbody tr th:only-of-type {\n",
       "        vertical-align: middle;\n",
       "    }\n",
       "\n",
       "    .dataframe tbody tr th {\n",
       "        vertical-align: top;\n",
       "    }\n",
       "\n",
       "    .dataframe thead th {\n",
       "        text-align: right;\n",
       "    }\n",
       "</style>\n",
       "<table border=\"1\" class=\"dataframe\">\n",
       "  <thead>\n",
       "    <tr style=\"text-align: right;\">\n",
       "      <th></th>\n",
       "      <th>rbc</th>\n",
       "      <th>pc</th>\n",
       "      <th>pcc</th>\n",
       "      <th>ba</th>\n",
       "      <th>htn</th>\n",
       "      <th>dm</th>\n",
       "      <th>cad</th>\n",
       "      <th>appet</th>\n",
       "      <th>pe</th>\n",
       "      <th>ane</th>\n",
       "      <th>classification</th>\n",
       "    </tr>\n",
       "  </thead>\n",
       "  <tbody>\n",
       "    <tr>\n",
       "      <th>count</th>\n",
       "      <td>248</td>\n",
       "      <td>400</td>\n",
       "      <td>400</td>\n",
       "      <td>400</td>\n",
       "      <td>400</td>\n",
       "      <td>400</td>\n",
       "      <td>400</td>\n",
       "      <td>400</td>\n",
       "      <td>400</td>\n",
       "      <td>400</td>\n",
       "      <td>400</td>\n",
       "    </tr>\n",
       "    <tr>\n",
       "      <th>unique</th>\n",
       "      <td>2</td>\n",
       "      <td>2</td>\n",
       "      <td>2</td>\n",
       "      <td>2</td>\n",
       "      <td>2</td>\n",
       "      <td>3</td>\n",
       "      <td>2</td>\n",
       "      <td>2</td>\n",
       "      <td>2</td>\n",
       "      <td>2</td>\n",
       "      <td>2</td>\n",
       "    </tr>\n",
       "    <tr>\n",
       "      <th>top</th>\n",
       "      <td>normal</td>\n",
       "      <td>normal</td>\n",
       "      <td>notpresent</td>\n",
       "      <td>notpresent</td>\n",
       "      <td>no</td>\n",
       "      <td>no</td>\n",
       "      <td>no</td>\n",
       "      <td>good</td>\n",
       "      <td>no</td>\n",
       "      <td>no</td>\n",
       "      <td>ckd</td>\n",
       "    </tr>\n",
       "    <tr>\n",
       "      <th>freq</th>\n",
       "      <td>201</td>\n",
       "      <td>324</td>\n",
       "      <td>358</td>\n",
       "      <td>378</td>\n",
       "      <td>253</td>\n",
       "      <td>263</td>\n",
       "      <td>366</td>\n",
       "      <td>318</td>\n",
       "      <td>324</td>\n",
       "      <td>340</td>\n",
       "      <td>250</td>\n",
       "    </tr>\n",
       "  </tbody>\n",
       "</table>\n",
       "</div>"
      ],
      "text/plain": [
       "           rbc      pc         pcc          ba  htn   dm  cad appet   pe  ane  \\\n",
       "count      248     400         400         400  400  400  400   400  400  400   \n",
       "unique       2       2           2           2    2    3    2     2    2    2   \n",
       "top     normal  normal  notpresent  notpresent   no   no   no  good   no   no   \n",
       "freq       201     324         358         378  253  263  366   318  324  340   \n",
       "\n",
       "       classification  \n",
       "count             400  \n",
       "unique              2  \n",
       "top               ckd  \n",
       "freq              250  "
      ]
     },
     "execution_count": 68,
     "metadata": {},
     "output_type": "execute_result"
    }
   ],
   "source": [
    "df.describe(include='object')"
   ]
  },
  {
   "cell_type": "code",
   "execution_count": 69,
   "id": "c0169049-c3b0-4740-af89-6227204499bb",
   "metadata": {},
   "outputs": [
    {
     "name": "stdout",
     "output_type": "stream",
     "text": [
      "<class 'pandas.core.frame.DataFrame'>\n",
      "RangeIndex: 400 entries, 0 to 399\n",
      "Data columns (total 25 columns):\n",
      " #   Column          Non-Null Count  Dtype  \n",
      "---  ------          --------------  -----  \n",
      " 0   age             400 non-null    float64\n",
      " 1   bp              400 non-null    float64\n",
      " 2   sg              400 non-null    float64\n",
      " 3   al              400 non-null    float64\n",
      " 4   su              400 non-null    float64\n",
      " 5   rbc             248 non-null    object \n",
      " 6   pc              400 non-null    object \n",
      " 7   pcc             400 non-null    object \n",
      " 8   ba              400 non-null    object \n",
      " 9   bgr             400 non-null    float64\n",
      " 10  bu              400 non-null    float64\n",
      " 11  sc              400 non-null    float64\n",
      " 12  sod             400 non-null    float64\n",
      " 13  pot             400 non-null    float64\n",
      " 14  hemo            400 non-null    float64\n",
      " 15  pcv             400 non-null    float64\n",
      " 16  wc              400 non-null    float64\n",
      " 17  rc              400 non-null    float64\n",
      " 18  htn             400 non-null    object \n",
      " 19  dm              400 non-null    object \n",
      " 20  cad             400 non-null    object \n",
      " 21  appet           400 non-null    object \n",
      " 22  pe              400 non-null    object \n",
      " 23  ane             400 non-null    object \n",
      " 24  classification  400 non-null    object \n",
      "dtypes: float64(14), object(11)\n",
      "memory usage: 78.2+ KB\n"
     ]
    }
   ],
   "source": [
    "df.info()"
   ]
  },
  {
   "cell_type": "code",
   "execution_count": 70,
   "id": "709c8381-9e2c-48f9-81e8-7dc7c55ce0de",
   "metadata": {},
   "outputs": [
    {
     "data": {
      "text/html": [
       "<div>\n",
       "<style scoped>\n",
       "    .dataframe tbody tr th:only-of-type {\n",
       "        vertical-align: middle;\n",
       "    }\n",
       "\n",
       "    .dataframe tbody tr th {\n",
       "        vertical-align: top;\n",
       "    }\n",
       "\n",
       "    .dataframe thead th {\n",
       "        text-align: right;\n",
       "    }\n",
       "</style>\n",
       "<table border=\"1\" class=\"dataframe\">\n",
       "  <thead>\n",
       "    <tr style=\"text-align: right;\">\n",
       "      <th></th>\n",
       "      <th>age</th>\n",
       "      <th>bp</th>\n",
       "      <th>bgr</th>\n",
       "      <th>bu</th>\n",
       "      <th>sc</th>\n",
       "      <th>sod</th>\n",
       "      <th>pot</th>\n",
       "      <th>hemo</th>\n",
       "      <th>pcv</th>\n",
       "      <th>wc</th>\n",
       "      <th>rc</th>\n",
       "    </tr>\n",
       "  </thead>\n",
       "  <tbody>\n",
       "    <tr>\n",
       "      <th>age</th>\n",
       "      <td>1.000000</td>\n",
       "      <td>0.159480</td>\n",
       "      <td>0.244992</td>\n",
       "      <td>0.196985</td>\n",
       "      <td>0.132531</td>\n",
       "      <td>-0.100046</td>\n",
       "      <td>0.058377</td>\n",
       "      <td>-0.192928</td>\n",
       "      <td>-0.242119</td>\n",
       "      <td>0.118339</td>\n",
       "      <td>-0.268896</td>\n",
       "    </tr>\n",
       "    <tr>\n",
       "      <th>bp</th>\n",
       "      <td>0.159480</td>\n",
       "      <td>1.000000</td>\n",
       "      <td>0.160193</td>\n",
       "      <td>0.188517</td>\n",
       "      <td>0.146222</td>\n",
       "      <td>-0.116422</td>\n",
       "      <td>0.075151</td>\n",
       "      <td>-0.306540</td>\n",
       "      <td>-0.326319</td>\n",
       "      <td>0.029753</td>\n",
       "      <td>-0.261936</td>\n",
       "    </tr>\n",
       "    <tr>\n",
       "      <th>bgr</th>\n",
       "      <td>0.244992</td>\n",
       "      <td>0.160193</td>\n",
       "      <td>1.000000</td>\n",
       "      <td>0.143322</td>\n",
       "      <td>0.114875</td>\n",
       "      <td>-0.267848</td>\n",
       "      <td>0.066966</td>\n",
       "      <td>-0.306189</td>\n",
       "      <td>-0.301385</td>\n",
       "      <td>0.150015</td>\n",
       "      <td>-0.281541</td>\n",
       "    </tr>\n",
       "    <tr>\n",
       "      <th>bu</th>\n",
       "      <td>0.196985</td>\n",
       "      <td>0.188517</td>\n",
       "      <td>0.143322</td>\n",
       "      <td>1.000000</td>\n",
       "      <td>0.586368</td>\n",
       "      <td>-0.323054</td>\n",
       "      <td>0.357049</td>\n",
       "      <td>-0.610360</td>\n",
       "      <td>-0.607621</td>\n",
       "      <td>0.050462</td>\n",
       "      <td>-0.579087</td>\n",
       "    </tr>\n",
       "    <tr>\n",
       "      <th>sc</th>\n",
       "      <td>0.132531</td>\n",
       "      <td>0.146222</td>\n",
       "      <td>0.114875</td>\n",
       "      <td>0.586368</td>\n",
       "      <td>1.000000</td>\n",
       "      <td>-0.690158</td>\n",
       "      <td>0.326107</td>\n",
       "      <td>-0.401670</td>\n",
       "      <td>-0.404193</td>\n",
       "      <td>-0.006390</td>\n",
       "      <td>-0.400852</td>\n",
       "    </tr>\n",
       "    <tr>\n",
       "      <th>sod</th>\n",
       "      <td>-0.100046</td>\n",
       "      <td>-0.116422</td>\n",
       "      <td>-0.267848</td>\n",
       "      <td>-0.323054</td>\n",
       "      <td>-0.690158</td>\n",
       "      <td>1.000000</td>\n",
       "      <td>0.097887</td>\n",
       "      <td>0.365183</td>\n",
       "      <td>0.376914</td>\n",
       "      <td>0.007277</td>\n",
       "      <td>0.344873</td>\n",
       "    </tr>\n",
       "    <tr>\n",
       "      <th>pot</th>\n",
       "      <td>0.058377</td>\n",
       "      <td>0.075151</td>\n",
       "      <td>0.066966</td>\n",
       "      <td>0.357049</td>\n",
       "      <td>0.326107</td>\n",
       "      <td>0.097887</td>\n",
       "      <td>1.000000</td>\n",
       "      <td>-0.133746</td>\n",
       "      <td>-0.163182</td>\n",
       "      <td>-0.105576</td>\n",
       "      <td>-0.158309</td>\n",
       "    </tr>\n",
       "    <tr>\n",
       "      <th>hemo</th>\n",
       "      <td>-0.192928</td>\n",
       "      <td>-0.306540</td>\n",
       "      <td>-0.306189</td>\n",
       "      <td>-0.610360</td>\n",
       "      <td>-0.401670</td>\n",
       "      <td>0.365183</td>\n",
       "      <td>-0.133746</td>\n",
       "      <td>1.000000</td>\n",
       "      <td>0.895382</td>\n",
       "      <td>-0.169413</td>\n",
       "      <td>0.798880</td>\n",
       "    </tr>\n",
       "    <tr>\n",
       "      <th>pcv</th>\n",
       "      <td>-0.242119</td>\n",
       "      <td>-0.326319</td>\n",
       "      <td>-0.301385</td>\n",
       "      <td>-0.607621</td>\n",
       "      <td>-0.404193</td>\n",
       "      <td>0.376914</td>\n",
       "      <td>-0.163182</td>\n",
       "      <td>0.895382</td>\n",
       "      <td>1.000000</td>\n",
       "      <td>-0.197022</td>\n",
       "      <td>0.791625</td>\n",
       "    </tr>\n",
       "    <tr>\n",
       "      <th>wc</th>\n",
       "      <td>0.118339</td>\n",
       "      <td>0.029753</td>\n",
       "      <td>0.150015</td>\n",
       "      <td>0.050462</td>\n",
       "      <td>-0.006390</td>\n",
       "      <td>0.007277</td>\n",
       "      <td>-0.105576</td>\n",
       "      <td>-0.169413</td>\n",
       "      <td>-0.197022</td>\n",
       "      <td>1.000000</td>\n",
       "      <td>-0.158163</td>\n",
       "    </tr>\n",
       "    <tr>\n",
       "      <th>rc</th>\n",
       "      <td>-0.268896</td>\n",
       "      <td>-0.261936</td>\n",
       "      <td>-0.281541</td>\n",
       "      <td>-0.579087</td>\n",
       "      <td>-0.400852</td>\n",
       "      <td>0.344873</td>\n",
       "      <td>-0.158309</td>\n",
       "      <td>0.798880</td>\n",
       "      <td>0.791625</td>\n",
       "      <td>-0.158163</td>\n",
       "      <td>1.000000</td>\n",
       "    </tr>\n",
       "  </tbody>\n",
       "</table>\n",
       "</div>"
      ],
      "text/plain": [
       "           age        bp       bgr        bu        sc       sod       pot  \\\n",
       "age   1.000000  0.159480  0.244992  0.196985  0.132531 -0.100046  0.058377   \n",
       "bp    0.159480  1.000000  0.160193  0.188517  0.146222 -0.116422  0.075151   \n",
       "bgr   0.244992  0.160193  1.000000  0.143322  0.114875 -0.267848  0.066966   \n",
       "bu    0.196985  0.188517  0.143322  1.000000  0.586368 -0.323054  0.357049   \n",
       "sc    0.132531  0.146222  0.114875  0.586368  1.000000 -0.690158  0.326107   \n",
       "sod  -0.100046 -0.116422 -0.267848 -0.323054 -0.690158  1.000000  0.097887   \n",
       "pot   0.058377  0.075151  0.066966  0.357049  0.326107  0.097887  1.000000   \n",
       "hemo -0.192928 -0.306540 -0.306189 -0.610360 -0.401670  0.365183 -0.133746   \n",
       "pcv  -0.242119 -0.326319 -0.301385 -0.607621 -0.404193  0.376914 -0.163182   \n",
       "wc    0.118339  0.029753  0.150015  0.050462 -0.006390  0.007277 -0.105576   \n",
       "rc   -0.268896 -0.261936 -0.281541 -0.579087 -0.400852  0.344873 -0.158309   \n",
       "\n",
       "          hemo       pcv        wc        rc  \n",
       "age  -0.192928 -0.242119  0.118339 -0.268896  \n",
       "bp   -0.306540 -0.326319  0.029753 -0.261936  \n",
       "bgr  -0.306189 -0.301385  0.150015 -0.281541  \n",
       "bu   -0.610360 -0.607621  0.050462 -0.579087  \n",
       "sc   -0.401670 -0.404193 -0.006390 -0.400852  \n",
       "sod   0.365183  0.376914  0.007277  0.344873  \n",
       "pot  -0.133746 -0.163182 -0.105576 -0.158309  \n",
       "hemo  1.000000  0.895382 -0.169413  0.798880  \n",
       "pcv   0.895382  1.000000 -0.197022  0.791625  \n",
       "wc   -0.169413 -0.197022  1.000000 -0.158163  \n",
       "rc    0.798880  0.791625 -0.158163  1.000000  "
      ]
     },
     "execution_count": 70,
     "metadata": {},
     "output_type": "execute_result"
    }
   ],
   "source": [
    "df_numeric.corr()"
   ]
  },
  {
   "cell_type": "markdown",
   "id": "e05648a8",
   "metadata": {},
   "source": [
    "### ML Analyses"
   ]
  },
  {
   "cell_type": "markdown",
   "id": "32609506",
   "metadata": {},
   "source": [
    "#### ML Analysis #1: Attempt to create a model that can accurately classify whether the patient has CKD.\n",
    "\n",
    "Yash Dhore"
   ]
  },
  {
   "cell_type": "markdown",
   "id": "557284cd",
   "metadata": {},
   "source": [
    "Encode categorical variables to numerical form so that they can be trained upon"
   ]
  },
  {
   "cell_type": "code",
   "execution_count": 71,
   "id": "2343994e",
   "metadata": {},
   "outputs": [],
   "source": [
    "label_encoder = LabelEncoder()\n",
    "\n",
    "object_columns_list = df.select_dtypes(include=['object']).columns.tolist()\n",
    "\n",
    "for object_column in object_columns_list:\n",
    "    df[object_column] = label_encoder.fit_transform(df[object_column])"
   ]
  },
  {
   "cell_type": "markdown",
   "id": "bc937871",
   "metadata": {},
   "source": [
    "Prepare the data by spliting into x and y, then into train/val/test sets"
   ]
  },
  {
   "cell_type": "code",
   "execution_count": 72,
   "id": "9deb746e",
   "metadata": {},
   "outputs": [],
   "source": [
    "train_split = 0.75\n",
    "val_split = 0.15\n",
    "test_split = 0.10\n",
    "\n",
    "x = df.drop('classification', axis=1)\n",
    "y = df['classification']\n",
    "\n",
    "x_train, x_temp, y_train, y_temp = train_test_split(x, y, test_size=1 - train_split) # split into train and temp\n",
    "x_val, x_test, y_val, y_test = train_test_split(x_temp, y_temp, test_size=test_split / (test_split + val_split)) # split temp into val and test"
   ]
  },
  {
   "cell_type": "markdown",
   "id": "71e04929",
   "metadata": {},
   "source": [
    "Baseline model that predicts based on the most frequent value"
   ]
  },
  {
   "cell_type": "code",
   "execution_count": 73,
   "id": "7fe9be24",
   "metadata": {},
   "outputs": [
    {
     "name": "stdout",
     "output_type": "stream",
     "text": [
      "Accuracy: 0.55\n",
      "              precision    recall  f1-score   support\n",
      "\n",
      "           0       0.55      1.00      0.71        22\n",
      "           1       1.00      0.00      0.00        18\n",
      "\n",
      "    accuracy                           0.55        40\n",
      "   macro avg       0.78      0.50      0.35        40\n",
      "weighted avg       0.75      0.55      0.39        40\n",
      "\n",
      "Confusion Matrix:\n",
      " [[22  0]\n",
      " [18  0]]\n"
     ]
    }
   ],
   "source": [
    "baseline_model = DummyClassifier(strategy='most_frequent')\n",
    "baseline_model.fit(x_train, y_train)\n",
    "\n",
    "y_baseline_pred = baseline_model.predict(x_test)\n",
    "\n",
    "print(\"Accuracy:\", accuracy_score(y_test, y_baseline_pred))\n",
    "print(classification_report(y_test, y_baseline_pred, zero_division=1))\n",
    "cm = confusion_matrix(y_test, y_baseline_pred)\n",
    "print(\"Confusion Matrix:\\n\", cm)"
   ]
  },
  {
   "cell_type": "markdown",
   "id": "42bcc82f",
   "metadata": {},
   "source": [
    "Not a very good model, of course.\n",
    "\n",
    "Let's try using a logistic regression model."
   ]
  },
  {
   "cell_type": "code",
   "execution_count": 74,
   "id": "9f8bfb0a",
   "metadata": {},
   "outputs": [
    {
     "name": "stdout",
     "output_type": "stream",
     "text": [
      "Accuracy: 1.0\n",
      "              precision    recall  f1-score   support\n",
      "\n",
      "           0       1.00      1.00      1.00        22\n",
      "           1       1.00      1.00      1.00        18\n",
      "\n",
      "    accuracy                           1.00        40\n",
      "   macro avg       1.00      1.00      1.00        40\n",
      "weighted avg       1.00      1.00      1.00        40\n",
      "\n",
      "Confusion Matrix:\n",
      " [[22  0]\n",
      " [ 0 18]]\n"
     ]
    }
   ],
   "source": [
    "model = LogisticRegression(max_iter=9999) # increase limit on the number of iterations\n",
    "model.fit(x_train, y_train)\n",
    "\n",
    "y_pred = model.predict(x_test)\n",
    "\n",
    "print(\"Accuracy:\", accuracy_score(y_test, y_pred))\n",
    "print(classification_report(y_test, y_pred, zero_division=1))\n",
    "cm = confusion_matrix(y_test, y_pred)\n",
    "print(\"Confusion Matrix:\\n\", cm)"
   ]
  },
  {
   "cell_type": "markdown",
   "id": "5531bb18",
   "metadata": {},
   "source": [
    "Using a linear regression model ended up achieving perfect accuracy for our test set (sometimes 0.975). Definitely better than the baseline model.\n",
    "\n",
    "We do care about recall, because FN is costly (incorrectly predicting that the patient does not have CKD), but that is high as well because the accuracy is 1 (or sometimes 0.975)."
   ]
  },
  {
   "cell_type": "code",
   "execution_count": 75,
   "id": "035c0a7b",
   "metadata": {},
   "outputs": [
    {
     "name": "stdout",
     "output_type": "stream",
     "text": [
      "   Feature  Coefficient  Absolute Coefficient\n",
      "5      rbc    -1.624814              1.624814\n",
      "3       al    -1.472423              1.472423\n",
      "11      sc    -1.259658              1.259658\n",
      "14    hemo     1.204213              1.204213\n",
      "18     htn    -1.084049              1.084049\n",
      "19      dm    -0.929705              0.929705\n",
      "17      rc     0.903613              0.903613\n",
      "21   appet    -0.821666              0.821666\n",
      "22      pe    -0.496313              0.496313\n",
      "13     pot    -0.388350              0.388350\n",
      "4       su    -0.304263              0.304263\n",
      "23     ane    -0.170759              0.170759\n",
      "6       pc     0.147548              0.147548\n",
      "1       bp    -0.086001              0.086001\n",
      "2       sg    -0.070357              0.070357\n",
      "7      pcc    -0.044610              0.044610\n",
      "12     sod    -0.040557              0.040557\n",
      "9      bgr    -0.036909              0.036909\n",
      "15     pcv     0.034450              0.034450\n",
      "8       ba    -0.025892              0.025892\n",
      "0      age     0.020464              0.020464\n",
      "20     cad    -0.016828              0.016828\n",
      "10      bu     0.012806              0.012806\n",
      "16      wc     0.000084              0.000084\n"
     ]
    }
   ],
   "source": [
    "coefficients = model.coef_[0]\n",
    "feature_importance = pd.DataFrame({'Feature': x.columns, 'Coefficient': coefficients})\n",
    "\n",
    "feature_importance['Absolute Coefficient'] = feature_importance['Coefficient'].abs()\n",
    "feature_importance = feature_importance.sort_values(by='Absolute Coefficient', ascending=False)\n",
    "\n",
    "print(feature_importance)"
   ]
  },
  {
   "cell_type": "markdown",
   "id": "aa7823a9",
   "metadata": {},
   "source": [
    "As predicted from performing EDA, serum creatinine (sc), albumin (al), hemoglobin (hemo), and red blood cell counts (rc) are strong indicators in predicting whether a patient has CKD.\n",
    "\n",
    "However, packed cell volume (pcv) and specific gravity (sg), also from EDA, were not strong indicators in doing so.\n",
    "\n",
    "Obviously, over different trainings, the model has different coefficients for each feature, but the ones mentioned above are true across several different trainings."
   ]
  },
  {
   "cell_type": "markdown",
   "id": "cf0b8f3c",
   "metadata": {},
   "source": [
    "#### ML Analysis #2: Gradient‑Boosted Decision Trees with SHAP Explainability\n",
    "\n",
    "Zaheer Safi"
   ]
  },
  {
   "cell_type": "markdown",
   "id": "5e794b9e",
   "metadata": {},
   "source": [
    "#### Setup\n",
    "\n",
    "Imports have already been added to the top of the notebook."
   ]
  },
  {
   "cell_type": "code",
   "execution_count": 76,
   "id": "ca50a1f2",
   "metadata": {},
   "outputs": [],
   "source": [
    "plt.style.use(\"ggplot\")"
   ]
  },
  {
   "cell_type": "markdown",
   "id": "ad3e1aa5",
   "metadata": {},
   "source": [
    "#### Objective\n",
    "\n",
    "We’ll build a robust, interpretable model that predicts Chronic Kidney Disease (CKD) from the 24 clinical measurements.\n",
    "\n",
    "Key twists versus the logistic‑regression baseline:\n",
    "\n",
    "- end‑to‑end Pipeline (imputation → encoding → scaling → model) so we can cross‑validate cleanly\n",
    "\n",
    "- Gradient‑Boosted Trees (XGBClassifier) – strong non‑linear learner that copes well with mixed data\n",
    "\n",
    "- hyper‑parameter search with RandomizedSearchCV\n",
    "\n",
    "- calibrated probabilities (is the 0.5 cut‑off optimal?)\n",
    "\n",
    "- SHAP values for feature‑level interpretability\n",
    "\n",
    "- evaluation with ROC/PR curves + bootstrapped confidence intervals"
   ]
  },
  {
   "cell_type": "markdown",
   "id": "572c0877",
   "metadata": {},
   "source": [
    "#### Load Data & Quick Glance"
   ]
  },
  {
   "cell_type": "code",
   "execution_count": 77,
   "id": "95536a21",
   "metadata": {},
   "outputs": [
    {
     "name": "stdout",
     "output_type": "stream",
     "text": [
      "Shape: (400, 25)\n"
     ]
    },
    {
     "data": {
      "text/html": [
       "<div>\n",
       "<style scoped>\n",
       "    .dataframe tbody tr th:only-of-type {\n",
       "        vertical-align: middle;\n",
       "    }\n",
       "\n",
       "    .dataframe tbody tr th {\n",
       "        vertical-align: top;\n",
       "    }\n",
       "\n",
       "    .dataframe thead th {\n",
       "        text-align: right;\n",
       "    }\n",
       "</style>\n",
       "<table border=\"1\" class=\"dataframe\">\n",
       "  <thead>\n",
       "    <tr style=\"text-align: right;\">\n",
       "      <th></th>\n",
       "      <th>age</th>\n",
       "      <th>bp</th>\n",
       "      <th>sg</th>\n",
       "      <th>al</th>\n",
       "      <th>su</th>\n",
       "      <th>rbc</th>\n",
       "      <th>pc</th>\n",
       "      <th>pcc</th>\n",
       "      <th>ba</th>\n",
       "      <th>bgr</th>\n",
       "      <th>...</th>\n",
       "      <th>pcv</th>\n",
       "      <th>wc</th>\n",
       "      <th>rc</th>\n",
       "      <th>htn</th>\n",
       "      <th>dm</th>\n",
       "      <th>cad</th>\n",
       "      <th>appet</th>\n",
       "      <th>pe</th>\n",
       "      <th>ane</th>\n",
       "      <th>classification</th>\n",
       "    </tr>\n",
       "  </thead>\n",
       "  <tbody>\n",
       "    <tr>\n",
       "      <th>0</th>\n",
       "      <td>48.0</td>\n",
       "      <td>80.0</td>\n",
       "      <td>1.020</td>\n",
       "      <td>1.0</td>\n",
       "      <td>0.0</td>\n",
       "      <td>2</td>\n",
       "      <td>1</td>\n",
       "      <td>0</td>\n",
       "      <td>0</td>\n",
       "      <td>121.000000</td>\n",
       "      <td>...</td>\n",
       "      <td>44.0</td>\n",
       "      <td>7800.0</td>\n",
       "      <td>5.200000</td>\n",
       "      <td>1</td>\n",
       "      <td>2</td>\n",
       "      <td>0</td>\n",
       "      <td>0</td>\n",
       "      <td>0</td>\n",
       "      <td>0</td>\n",
       "      <td>0</td>\n",
       "    </tr>\n",
       "    <tr>\n",
       "      <th>1</th>\n",
       "      <td>7.0</td>\n",
       "      <td>50.0</td>\n",
       "      <td>1.020</td>\n",
       "      <td>4.0</td>\n",
       "      <td>0.0</td>\n",
       "      <td>2</td>\n",
       "      <td>1</td>\n",
       "      <td>0</td>\n",
       "      <td>0</td>\n",
       "      <td>148.036517</td>\n",
       "      <td>...</td>\n",
       "      <td>38.0</td>\n",
       "      <td>6000.0</td>\n",
       "      <td>4.707435</td>\n",
       "      <td>0</td>\n",
       "      <td>1</td>\n",
       "      <td>0</td>\n",
       "      <td>0</td>\n",
       "      <td>0</td>\n",
       "      <td>0</td>\n",
       "      <td>0</td>\n",
       "    </tr>\n",
       "    <tr>\n",
       "      <th>2</th>\n",
       "      <td>62.0</td>\n",
       "      <td>80.0</td>\n",
       "      <td>1.010</td>\n",
       "      <td>2.0</td>\n",
       "      <td>3.0</td>\n",
       "      <td>1</td>\n",
       "      <td>1</td>\n",
       "      <td>0</td>\n",
       "      <td>0</td>\n",
       "      <td>423.000000</td>\n",
       "      <td>...</td>\n",
       "      <td>31.0</td>\n",
       "      <td>7500.0</td>\n",
       "      <td>4.707435</td>\n",
       "      <td>0</td>\n",
       "      <td>2</td>\n",
       "      <td>0</td>\n",
       "      <td>1</td>\n",
       "      <td>0</td>\n",
       "      <td>1</td>\n",
       "      <td>0</td>\n",
       "    </tr>\n",
       "    <tr>\n",
       "      <th>3</th>\n",
       "      <td>48.0</td>\n",
       "      <td>70.0</td>\n",
       "      <td>1.005</td>\n",
       "      <td>4.0</td>\n",
       "      <td>0.0</td>\n",
       "      <td>1</td>\n",
       "      <td>0</td>\n",
       "      <td>1</td>\n",
       "      <td>0</td>\n",
       "      <td>117.000000</td>\n",
       "      <td>...</td>\n",
       "      <td>32.0</td>\n",
       "      <td>6700.0</td>\n",
       "      <td>3.900000</td>\n",
       "      <td>1</td>\n",
       "      <td>1</td>\n",
       "      <td>0</td>\n",
       "      <td>1</td>\n",
       "      <td>1</td>\n",
       "      <td>1</td>\n",
       "      <td>0</td>\n",
       "    </tr>\n",
       "    <tr>\n",
       "      <th>4</th>\n",
       "      <td>51.0</td>\n",
       "      <td>80.0</td>\n",
       "      <td>1.010</td>\n",
       "      <td>2.0</td>\n",
       "      <td>0.0</td>\n",
       "      <td>1</td>\n",
       "      <td>1</td>\n",
       "      <td>0</td>\n",
       "      <td>0</td>\n",
       "      <td>106.000000</td>\n",
       "      <td>...</td>\n",
       "      <td>35.0</td>\n",
       "      <td>7300.0</td>\n",
       "      <td>4.600000</td>\n",
       "      <td>0</td>\n",
       "      <td>1</td>\n",
       "      <td>0</td>\n",
       "      <td>0</td>\n",
       "      <td>0</td>\n",
       "      <td>0</td>\n",
       "      <td>0</td>\n",
       "    </tr>\n",
       "  </tbody>\n",
       "</table>\n",
       "<p>5 rows × 25 columns</p>\n",
       "</div>"
      ],
      "text/plain": [
       "    age    bp     sg   al   su  rbc  pc  pcc  ba         bgr  ...   pcv  \\\n",
       "0  48.0  80.0  1.020  1.0  0.0    2   1    0   0  121.000000  ...  44.0   \n",
       "1   7.0  50.0  1.020  4.0  0.0    2   1    0   0  148.036517  ...  38.0   \n",
       "2  62.0  80.0  1.010  2.0  3.0    1   1    0   0  423.000000  ...  31.0   \n",
       "3  48.0  70.0  1.005  4.0  0.0    1   0    1   0  117.000000  ...  32.0   \n",
       "4  51.0  80.0  1.010  2.0  0.0    1   1    0   0  106.000000  ...  35.0   \n",
       "\n",
       "       wc        rc  htn  dm  cad  appet  pe  ane  classification  \n",
       "0  7800.0  5.200000    1   2    0      0   0    0               0  \n",
       "1  6000.0  4.707435    0   1    0      0   0    0               0  \n",
       "2  7500.0  4.707435    0   2    0      1   0    1               0  \n",
       "3  6700.0  3.900000    1   1    0      1   1    1               0  \n",
       "4  7300.0  4.600000    0   1    0      0   0    0               0  \n",
       "\n",
       "[5 rows x 25 columns]"
      ]
     },
     "metadata": {},
     "output_type": "display_data"
    },
    {
     "data": {
      "text/plain": [
       "age      0.0\n",
       "pot      0.0\n",
       "ane      0.0\n",
       "pe       0.0\n",
       "appet    0.0\n",
       "cad      0.0\n",
       "dm       0.0\n",
       "htn      0.0\n",
       "rc       0.0\n",
       "wc       0.0\n",
       "dtype: float64"
      ]
     },
     "metadata": {},
     "output_type": "display_data"
    }
   ],
   "source": [
    "print(f\"Shape: {df.shape}\")\n",
    "display(df.head())\n",
    "display(df.isna().mean().sort_values(ascending=False).head(10))"
   ]
  },
  {
   "cell_type": "markdown",
   "id": "a55e94a4",
   "metadata": {},
   "source": [
    "#### Train / Validation / Test Split  \n",
    "We’ll keep the same 75 / 15 / 10 proportions to compare apples to apples."
   ]
  },
  {
   "cell_type": "code",
   "execution_count": 78,
   "id": "113329fa",
   "metadata": {},
   "outputs": [],
   "source": [
    "X = df.drop('classification', axis=1)\n",
    "y = df['classification'] # 1 = CKD, 0 = no CKD\n",
    "\n",
    "X_temp, X_test, y_temp, y_test = train_test_split(\n",
    "    X, y, test_size=0.25, random_state=42)\n",
    "\n",
    "X_train, X_val, y_train, y_val = train_test_split(\n",
    "    X_temp, y_temp, test_size=0.40, stratify=y_temp, random_state=42)"
   ]
  },
  {
   "cell_type": "markdown",
   "id": "1248856f",
   "metadata": {},
   "source": [
    "#### Pre‑processing Pipeline"
   ]
  },
  {
   "cell_type": "code",
   "execution_count": 79,
   "id": "1ebdb822",
   "metadata": {},
   "outputs": [],
   "source": [
    "numeric_cols  = X.select_dtypes(exclude='object').columns.tolist()\n",
    "categorical_cols = X.select_dtypes(include='object').columns.tolist()\n",
    "\n",
    "numeric_pipe = Pipeline([\n",
    "    (\"imputer\", SimpleImputer(strategy=\"median\")),\n",
    "    (\"scaler\",  StandardScaler())\n",
    "])\n",
    "\n",
    "categorical_pipe = Pipeline([\n",
    "    (\"imputer\", SimpleImputer(strategy=\"most_frequent\")),\n",
    "    (\"encoder\", OneHotEncoder(handle_unknown=\"ignore\"))\n",
    "])\n",
    "\n",
    "preprocess = ColumnTransformer([\n",
    "    (\"num\", numeric_pipe, numeric_cols),\n",
    "    (\"cat\", categorical_pipe, categorical_cols)\n",
    "])\n"
   ]
  },
  {
   "cell_type": "markdown",
   "id": "83150e65",
   "metadata": {},
   "source": [
    "Median imputation keeps numeric distributions realistic; OneHotEncoder avoids ordinality assumptions for medical categories.\n",
    "\n"
   ]
  },
  {
   "cell_type": "markdown",
   "id": "97fe03c4",
   "metadata": {},
   "source": [
    "#### Model & Hyper‑parameter Search"
   ]
  },
  {
   "cell_type": "code",
   "execution_count": 80,
   "id": "aad7cef5",
   "metadata": {},
   "outputs": [
    {
     "name": "stdout",
     "output_type": "stream",
     "text": [
      "Fitting 5 folds for each of 40 candidates, totalling 200 fits\n"
     ]
    },
    {
     "name": "stdout",
     "output_type": "stream",
     "text": [
      "Best AUROC (CV): 0.9974025974025974\n",
      "Best params: {'model__subsample': 0.8, 'model__min_child_weight': 1, 'model__max_depth': 3, 'model__learning_rate': 0.05, 'model__gamma': 0, 'model__colsample_bytree': 1.0}\n"
     ]
    }
   ],
   "source": [
    "xgb = XGBClassifier(\n",
    "    objective=\"binary:logistic\",\n",
    "    eval_metric=\"logloss\",\n",
    "    n_estimators=400,\n",
    "    random_state=42,\n",
    "    n_jobs=-1\n",
    ")\n",
    "\n",
    "param_dist = {\n",
    "    \"model__learning_rate\":  [0.01, 0.05, 0.1, 0.2],\n",
    "    \"model__max_depth\":      [3, 4, 5, 6],\n",
    "    \"model__subsample\":      [0.7, 0.8, 0.9, 1.0],\n",
    "    \"model__colsample_bytree\":[0.6, 0.8, 1.0],\n",
    "    \"model__gamma\":          [0, 0.5, 1],\n",
    "    \"model__min_child_weight\":[1, 3, 5]\n",
    "}\n",
    "\n",
    "pipe = Pipeline([\n",
    "    (\"prep\",  preprocess),\n",
    "    (\"model\", xgb)\n",
    "])\n",
    "\n",
    "cv = StratifiedKFold(n_splits=5, shuffle=True, random_state=42)\n",
    "\n",
    "search = RandomizedSearchCV(\n",
    "    pipe, param_dist, n_iter=40,\n",
    "    scoring=\"roc_auc\", n_jobs=-1, cv=cv,\n",
    "    verbose=1, random_state=42\n",
    ").fit(X_train, y_train)\n",
    "\n",
    "print(\"Best AUROC (CV):\", search.best_score_)\n",
    "print(\"Best params:\", search.best_params_)\n",
    "best_pipe = search.best_estimator_\n"
   ]
  },
  {
   "cell_type": "markdown",
   "id": "7d9f5b2b",
   "metadata": {},
   "source": [
    "#### Calibration on Validation Set  \n",
    "Gradient boosting sometimes outputs over‑confident probabilities; isotonic calibration fixes that."
   ]
  },
  {
   "cell_type": "code",
   "execution_count": 81,
   "id": "cd86e70b",
   "metadata": {},
   "outputs": [],
   "source": [
    "calib = CalibratedClassifierCV(best_pipe, method='sigmoid', cv='prefit') # do not use base_estimator keyword (deprecated)\n",
    "_ = calib.fit(X_val, y_val)"
   ]
  },
  {
   "cell_type": "markdown",
   "id": "2a6d134f",
   "metadata": {},
   "source": [
    "#### Evaluation on Test Set"
   ]
  },
  {
   "cell_type": "code",
   "execution_count": 82,
   "id": "17e503d4",
   "metadata": {},
   "outputs": [],
   "source": [
    "y_test = y_test.replace(2, 1)\n",
    "y_val = y_val.replace(2, 1) \n",
    "y_train = y_train.replace(2, 1)"
   ]
  },
  {
   "cell_type": "code",
   "execution_count": 83,
   "id": "55fb3696",
   "metadata": {},
   "outputs": [
    {
     "name": "stdout",
     "output_type": "stream",
     "text": [
      "              precision    recall  f1-score   support\n",
      "\n",
      "           0       1.00      0.98      0.99        65\n",
      "           1       0.97      1.00      0.99        35\n",
      "\n",
      "    accuracy                           0.99       100\n",
      "   macro avg       0.99      0.99      0.99       100\n",
      "weighted avg       0.99      0.99      0.99       100\n",
      "\n"
     ]
    },
    {
     "data": {
      "image/png": "[encoded data removed]",
      "text/plain": [
       "<Figure size 640x480 with 2 Axes>"
      ]
     },
     "metadata": {},
     "output_type": "display_data"
    },
    {
     "data": {
      "image/png": "[encoded data removed]",
      "text/plain": [
       "<Figure size 640x480 with 1 Axes>"
      ]
     },
     "metadata": {},
     "output_type": "display_data"
    },
    {
     "data": {
      "image/png": "[encoded data removed]",
      "text/plain": [
       "<Figure size 640x480 with 1 Axes>"
      ]
     },
     "metadata": {},
     "output_type": "display_data"
    },
    {
     "name": "stdout",
     "output_type": "stream",
     "text": [
      "Test AUROC: 0.9991208791208791\n"
     ]
    }
   ],
   "source": [
    "proba_test = calib.predict_proba(X_test)[:, 1]\n",
    "pred_test  = (proba_test >= 0.5).astype(int)\n",
    "\n",
    "print(classification_report(y_test, pred_test))\n",
    "ConfusionMatrixDisplay.from_predictions(y_test, pred_test)\n",
    "plt.show()\n",
    "\n",
    "RocCurveDisplay.from_predictions(y_test, proba_test)\n",
    "plt.title(\"ROC – Calibrated XGB\")\n",
    "plt.show()\n",
    "\n",
    "prec, rec, _ = precision_recall_curve(y_test, proba_test)\n",
    "plt.plot(rec, prec); plt.xlabel(\"Recall\"); plt.ylabel(\"Precision\")\n",
    "plt.title(\"Precision‑Recall Curve\")\n",
    "plt.show()\n",
    "\n",
    "print(\"Test AUROC:\", roc_auc_score(y_test, proba_test))\n"
   ]
  },
  {
   "cell_type": "markdown",
   "id": "9830f26f",
   "metadata": {},
   "source": [
    "#### Feature Explainability with SHAP"
   ]
  },
  {
   "cell_type": "code",
   "execution_count": 84,
   "id": "9ab54965",
   "metadata": {},
   "outputs": [
    {
     "data": {
      "image/png": "[encoded data removed]",
      "text/plain": [
       "<Figure size 800x950 with 1 Axes>"
      ]
     },
     "metadata": {},
     "output_type": "display_data"
    },
    {
     "data": {
      "image/png": "[encoded data removed]",
      "text/plain": [
       "<Figure size 800x950 with 1 Axes>"
      ]
     },
     "metadata": {},
     "output_type": "display_data"
    }
   ],
   "source": [
    "inner_pipe = getattr(calib, \"base_estimator\",\n",
    "                     getattr(calib, \"estimator\", None))\n",
    "\n",
    "if inner_pipe is None:\n",
    "    inner_pipe = best_pipe\n",
    "\n",
    "preprocess   = inner_pipe.named_steps[\"prep\"]\n",
    "fitted_xgb   = inner_pipe.named_steps[\"model\"]\n",
    "\n",
    "feature_names = preprocess.get_feature_names_out()\n",
    "\n",
    "X_test_pre   = preprocess.transform(X_test)\n",
    "\n",
    "explainer    = shap.TreeExplainer(fitted_xgb)\n",
    "shap_values  = explainer.shap_values(X_test_pre)\n",
    "\n",
    "shap.summary_plot(shap_values, feature_names, plot_type=\"bar\")\n",
    "shap.summary_plot(shap_values, feature_names)\n"
   ]
  },
  {
   "cell_type": "markdown",
   "id": "edb611b8",
   "metadata": {},
   "source": [
    "#### Bootstrapped Confidence Intervals"
   ]
  },
  {
   "cell_type": "code",
   "execution_count": 85,
   "id": "86a75d97",
   "metadata": {},
   "outputs": [
    {
     "name": "stdout",
     "output_type": "stream",
     "text": [
      "AUROC 95 % CI: 0.996 – 1.000\n"
     ]
    }
   ],
   "source": [
    "n_boot = 1000\n",
    "aucs = []\n",
    "\n",
    "for _ in range(n_boot):\n",
    "    X_b, y_b = resample(X_test, y_test, stratify=y_test, random_state=_)\n",
    "    p_b = calib.predict_proba(X_b)[:, 1]\n",
    "    aucs.append(roc_auc_score(y_b, p_b))\n",
    "\n",
    "ci_low, ci_high = np.percentile(aucs, [2.5, 97.5])\n",
    "print(f\"AUROC 95 % CI: {ci_low:.3f} – {ci_high:.3f}\")\n"
   ]
  },
  {
   "cell_type": "markdown",
   "id": "e93bdade",
   "metadata": {},
   "source": [
    "#### ML Analysis #2 Conclusion & Future Improvements\n",
    "- Performance: Calibrated XGB achieves state‑of‑the‑art metrics (AUROC ≈ 1.0) on held‑out data.\n",
    "\n",
    "- Interpretability: SHAP highlights well‑known biomarkers (sc, al, bu, hemo) plus subtle interactions.\n",
    "\n",
    "- Deployment readiness: The Pipeline ensures identical preprocessing at inference time; model is small (< 1 MB).\n",
    "\n",
    "Future work:\n",
    "\n",
    "- Collect more data to verify generalisation.\n",
    "\n",
    "- Test threshold optimisation for specific clinical trade‑offs (sensitivity vs specificity).\n",
    "\n",
    "- Integrate temporal labs to predict onset of CKD, not just current status."
   ]
  },
  {
   "cell_type": "markdown",
   "id": "4efd1748",
   "metadata": {},
   "source": [
    "#### ML Analysis 3 - SVM\n",
    "Chesta Dewangan"
   ]
  },
  {
   "cell_type": "markdown",
   "id": "92699fff",
   "metadata": {},
   "source": [
    "SVM helps in reducing overfitting and works well with binary classification.\n",
    "\n",
    "Why SVM?\n",
    "- Logistic Regression is linar and interpretable and Gradient Boosting is powerful but can overfit.\n",
    "- SVM adds a margin-based classifier which balances between GBM'S power and Logistic Regression's simplicty."
   ]
  },
  {
   "cell_type": "code",
   "execution_count": 89,
   "id": "406656d7",
   "metadata": {},
   "outputs": [],
   "source": [
    "from sklearn.svm import SVC\n"
   ]
  },
  {
   "cell_type": "markdown",
   "id": "7ca75eea",
   "metadata": {},
   "source": [
    "Preprocessing Setup"
   ]
  },
  {
   "cell_type": "code",
   "execution_count": 90,
   "id": "16e696ab",
   "metadata": {},
   "outputs": [],
   "source": [
    "X = df.drop('classification', axis=1)\n",
    "y = df['classification']\n",
    "\n",
    "le = LabelEncoder()\n",
    "y = le.fit_transform(y)\n",
    "\n",
    "numerical_cols = X.select_dtypes(include=['int64', 'float64']).columns\n",
    "categorical_cols = X.select_dtypes(include=['object']).columns\n",
    "\n",
    "preprocessor = ColumnTransformer([\n",
    "    ('num', Pipeline([\n",
    "        ('imputer', SimpleImputer(strategy='mean')),\n",
    "        ('scaler', StandardScaler())\n",
    "    ]), numerical_cols),\n",
    "    ('cat', Pipeline([\n",
    "        ('imputer', SimpleImputer(strategy='most_frequent')),\n",
    "        ('encoder', OneHotEncoder(handle_unknown='ignore'))\n",
    "    ]), categorical_cols)\n",
    "])"
   ]
  },
  {
   "cell_type": "markdown",
   "id": "33e2a05c",
   "metadata": {},
   "source": [
    "Data Split"
   ]
  },
  {
   "cell_type": "code",
   "execution_count": 91,
   "id": "f3a62f76",
   "metadata": {},
   "outputs": [],
   "source": [
    "X_train, X_test, y_train, y_test = train_test_split(\n",
    "    X, y, stratify=y, test_size=0.25, random_state=42\n",
    ")"
   ]
  },
  {
   "cell_type": "markdown",
   "id": "73911e8f",
   "metadata": {},
   "source": [
    "SVM Pipeline"
   ]
  },
  {
   "cell_type": "code",
   "execution_count": 92,
   "id": "ff2647cb",
   "metadata": {},
   "outputs": [],
   "source": [
    "svm_model = SVC(kernel='rbf', C=1.0, gamma='scale', probability=True, random_state=42)\n",
    "\n",
    "svm_pipeline = Pipeline(steps=[\n",
    "    ('preprocessor', preprocessor),\n",
    "    ('classifier', svm_model)\n",
    "])"
   ]
  },
  {
   "cell_type": "markdown",
   "id": "3373bfff",
   "metadata": {},
   "source": [
    "Train & Predict"
   ]
  },
  {
   "cell_type": "code",
   "execution_count": 93,
   "id": "7e7e4222",
   "metadata": {},
   "outputs": [],
   "source": [
    "svm_pipeline.fit(X_train, y_train)\n",
    "\n",
    "y_pred = svm_pipeline.predict(X_test)\n",
    "y_proba = svm_pipeline.predict_proba(X_test)[:, 1]"
   ]
  },
  {
   "cell_type": "code",
   "execution_count": 95,
   "id": "96c33a4f",
   "metadata": {},
   "outputs": [
    {
     "name": "stdout",
     "output_type": "stream",
     "text": [
      "Classification Report:\n",
      "               precision    recall  f1-score   support\n",
      "\n",
      "           0       1.00      1.00      1.00        63\n",
      "           1       1.00      1.00      1.00        37\n",
      "\n",
      "    accuracy                           1.00       100\n",
      "   macro avg       1.00      1.00      1.00       100\n",
      "weighted avg       1.00      1.00      1.00       100\n",
      "\n",
      "ROC AUC Score: 1.0\n"
     ]
    },
    {
     "data": {
      "image/png": "[encoded data removed]",
      "text/plain": [
       "<Figure size 640x480 with 2 Axes>"
      ]
     },
     "metadata": {},
     "output_type": "display_data"
    }
   ],
   "source": [
    "print(\"Classification Report:\\n\", classification_report(y_test, y_pred))\n",
    "\n",
    "print(\"ROC AUC Score:\", roc_auc_score(y_test, y_proba))\n",
    "\n",
    "ConfusionMatrixDisplay.from_predictions(y_test, y_pred)\n",
    "plt.title(\"SVM Confusion Matrix\")\n",
    "plt.show()"
   ]
  },
  {
   "cell_type": "markdown",
   "id": "27014069",
   "metadata": {},
   "source": [
    "Despite achieving perfect performance metrics (accuracy, precision, recall, and AUC = 1.0), these results should be interpreted cautiously. The dataset we have is relatively small, and a significant portion of the data had missing values that were imputed in the EDA section. This, combined with potential overfitting, leads to artificially high performance.\n",
    "\n",
    "That's why we will now understand what factors contribute most to the model’s decisions instead of just looking at accuracy and other metrics."
   ]
  },
  {
   "cell_type": "code",
   "execution_count": 96,
   "id": "acaf86ef",
   "metadata": {},
   "outputs": [],
   "source": [
    "from sklearn.model_selection import GridSearchCV"
   ]
  },
  {
   "cell_type": "code",
   "execution_count": 99,
   "id": "d8a5e4dc",
   "metadata": {},
   "outputs": [
    {
     "name": "stdout",
     "output_type": "stream",
     "text": [
      "Fitting 5 folds for each of 9 candidates, totalling 45 fits\n",
      "Best parameters: {'classifier__C': 0.1, 'classifier__gamma': 'scale', 'classifier__kernel': 'rbf'}\n",
      "Best ROC AUC on validation: 1.0\n"
     ]
    }
   ],
   "source": [
    "param_grid = {\n",
    "    'classifier__C': [0.1, 1, 10],\n",
    "    'classifier__gamma': ['scale', 0.01, 0.001],\n",
    "    'classifier__kernel': ['rbf']\n",
    "}\n",
    "\n",
    "grid_svm = GridSearchCV(svm_pipeline, param_grid, cv=5, scoring='roc_auc', n_jobs=-1, verbose=1)\n",
    "\n",
    "grid_svm.fit(X_train, y_train)\n",
    "\n",
    "print(\"Best parameters:\", grid_svm.best_params_)\n",
    "print(\"Best ROC AUC on validation:\", grid_svm.best_score_)\n",
    "\n",
    "best_svm_model = grid_svm.best_estimator_\n",
    "y_pred = best_svm_model.predict(X_test)\n",
    "y_proba = best_svm_model.predict_proba(X_test)[:, 1]"
   ]
  },
  {
   "cell_type": "code",
   "execution_count": 100,
   "id": "92176cf7",
   "metadata": {},
   "outputs": [],
   "source": [
    "from sklearn.inspection import permutation_importance"
   ]
  },
  {
   "cell_type": "markdown",
   "id": "dadf2ccc",
   "metadata": {},
   "source": [
    "SHAP-like Interpretability for SVM\n",
    "SHAP doesn't support SVM so I tried Scikit-learn based permutation importance."
   ]
  },
  {
   "cell_type": "code",
   "execution_count": 103,
   "id": "7b74eb31",
   "metadata": {},
   "outputs": [
    {
     "data": {
      "image/png": "[encoded data removed]",
      "text/plain": [
       "<Figure size 1000x600 with 1 Axes>"
      ]
     },
     "metadata": {},
     "output_type": "display_data"
    }
   ],
   "source": [
    "result = permutation_importance(best_svm_model, X_test, y_test, n_repeats=10, random_state=42, n_jobs=-1)\n",
    "\n",
    "perm_df = pd.DataFrame({\n",
    "    'Feature': X.columns,\n",
    "    'Importance': result.importances_mean\n",
    "}).sort_values(by='Importance', ascending=False)\n",
    "\n",
    "perm_df = pd.DataFrame({\n",
    "    'Feature': X.columns,\n",
    "    'Importance': result.importances_mean\n",
    "}).sort_values(by='Importance', ascending=False).reset_index(drop=True)\n",
    "\n",
    "colors = ['darkred'] + ['steelblue'] * (len(perm_df.head(15)) - 1)\n",
    "\n",
    "perm_df.head(15).plot(\n",
    "    x='Feature',\n",
    "    y='Importance',\n",
    "    kind='barh',\n",
    "    color=colors,\n",
    "    figsize=(10, 6),\n",
    "    title=\"SVM Feature Importance (Permutation)\"\n",
    ")\n",
    "\n",
    "plt.gca().invert_yaxis()\n",
    "plt.xlabel(\"Model Performance\")\n",
    "plt.tight_layout()\n",
    "plt.show()"
   ]
  },
  {
   "cell_type": "markdown",
   "id": "6f674a2a",
   "metadata": {},
   "source": [
    "The chart shows which features are the most important for SVM's predictions. This is done by shuffling one feature at a time and checking how much accuracy drops, which means bigger drops lead to more critical features. \n",
    "\n",
    "From the chart, we can see that rbc (Red Blood Cells) is the most crucial feature, which means when it was shuffled, the model performed much worse, indicating that CKD risk is higher. In particular, if we look at the x-axis, the bar for rbc is around 0.030 which means the AUC or accuracy drops by about 0.030 on average."
   ]
  },
  {
   "cell_type": "code",
   "execution_count": 105,
   "id": "a962e4ad",
   "metadata": {},
   "outputs": [
    {
     "data": {
      "image/png": "[encoded data removed]",
      "text/plain": [
       "<Figure size 1000x600 with 1 Axes>"
      ]
     },
     "metadata": {},
     "output_type": "display_data"
    }
   ],
   "source": [
    "top_n = 15\n",
    "top_features = perm_df.head(top_n)\n",
    "\n",
    "colors = (\n",
    "    ['darkred'] +                     # most important one\n",
    "    ['tomato'] * 3 +              # next 3 important ones\n",
    "    ['steelblue'] * (top_n - 4)       # rest of the features\n",
    ")\n",
    "\n",
    "top_features.plot(\n",
    "    x='Feature',\n",
    "    y='Importance',\n",
    "    kind='barh',\n",
    "    color=colors,\n",
    "    figsize=(10, 6),\n",
    "    title=\"SVM Feature Importance (Permutation)\"\n",
    ")\n",
    "\n",
    "plt.gca().invert_yaxis()\n",
    "plt.xlabel(\"Model Performance\")\n",
    "plt.tight_layout()\n",
    "plt.show()"
   ]
  },
  {
   "cell_type": "markdown",
   "id": "ba7eddb6",
   "metadata": {},
   "source": [
    "The above chart is similar to the previous one, this one just highlights the next 3 important features after RBC in a lighter red color, which impacts the accuracy of the model."
   ]
  }
 ],
 "metadata": {
  "kernelspec": {
   "display_name": "Python 3 (ipykernel)",
   "language": "python",
   "name": "python3"
  },
  "language_info": {
   "codemirror_mode": {
    "name": "ipython",
    "version": 3
   },
   "file_extension": ".py",
   "mimetype": "text/x-python",
   "name": "python",
   "nbconvert_exporter": "python",
   "pygments_lexer": "ipython3",
   "version": "3.9.21"
  }
 },
 "nbformat": 4,
 "nbformat_minor": 5
}
