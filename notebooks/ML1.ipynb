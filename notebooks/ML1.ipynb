{
 "cells": [
  {
   "cell_type": "markdown",
   "id": "9f98a05e",
   "metadata": {},
   "source": [
    "#### ML Analysis #1: Attempt to create a model that can accurately classify whether the patient has CKD.\n",
    "\n",
    "Yash Dhore"
   ]
  },
  {
   "cell_type": "code",
   "execution_count": 1,
   "id": "7918b2ab",
   "metadata": {},
   "outputs": [],
   "source": [
    "import pandas as pd\n",
    "\n",
    "from sklearn.model_selection import train_test_split\n",
    "from sklearn.linear_model import LogisticRegression\n",
    "from sklearn.preprocessing import LabelEncoder\n",
    "from sklearn.dummy import DummyClassifier\n",
    "from sklearn.metrics import (accuracy_score, confusion_matrix, classification_report)"
   ]
  },
  {
   "cell_type": "code",
   "execution_count": 2,
   "id": "2211c3d2",
   "metadata": {},
   "outputs": [],
   "source": [
    "# Load the (preprocessed) data\n",
    "df = pd.read_csv(\"ckd_preprocessed.csv\")"
   ]
  },
  {
   "cell_type": "markdown",
   "id": "0fedb353",
   "metadata": {},
   "source": [
    "Encode categorical variables to numerical form so that they can be trained upon"
   ]
  },
  {
   "cell_type": "code",
   "execution_count": 3,
   "id": "84ff7a0d",
   "metadata": {},
   "outputs": [],
   "source": [
    "label_encoder = LabelEncoder()\n",
    "\n",
    "object_columns_list = df.select_dtypes(include=['object']).columns.tolist()\n",
    "\n",
    "for object_column in object_columns_list:\n",
    "    df[object_column] = label_encoder.fit_transform(df[object_column])"
   ]
  },
  {
   "cell_type": "markdown",
   "id": "2f83b4cb",
   "metadata": {},
   "source": [
    "Prepare the data by spliting into x and y, then into train/val/test sets"
   ]
  },
  {
   "cell_type": "code",
   "execution_count": 4,
   "id": "b167c911",
   "metadata": {},
   "outputs": [],
   "source": [
    "train_split = 0.75\n",
    "val_split = 0.15\n",
    "test_split = 0.10\n",
    "\n",
    "x = df.drop('classification', axis=1)\n",
    "y = df['classification']\n",
    "\n",
    "x_train, x_temp, y_train, y_temp = train_test_split(x, y, test_size=1 - train_split) # split into train and temp\n",
    "x_val, x_test, y_val, y_test = train_test_split(x_temp, y_temp, test_size=test_split / (test_split + val_split)) # split temp into val and test"
   ]
  },
  {
   "cell_type": "markdown",
   "id": "ccf841b6",
   "metadata": {},
   "source": [
    "Baseline model that predicts based on the most frequent value"
   ]
  },
  {
   "cell_type": "code",
   "execution_count": 5,
   "id": "de718ab6",
   "metadata": {},
   "outputs": [
    {
     "name": "stdout",
     "output_type": "stream",
     "text": [
      "Accuracy: 0.7\n",
      "              precision    recall  f1-score   support\n",
      "\n",
      "           0       0.70      1.00      0.82        28\n",
      "           1       1.00      0.00      0.00        12\n",
      "\n",
      "    accuracy                           0.70        40\n",
      "   macro avg       0.85      0.50      0.41        40\n",
      "weighted avg       0.79      0.70      0.58        40\n",
      "\n",
      "Confusion Matrix:\n",
      " [[28  0]\n",
      " [12  0]]\n"
     ]
    }
   ],
   "source": [
    "baseline_model = DummyClassifier(strategy='most_frequent')\n",
    "baseline_model.fit(x_train, y_train)\n",
    "\n",
    "y_baseline_pred = baseline_model.predict(x_test)\n",
    "\n",
    "print(\"Accuracy:\", accuracy_score(y_test, y_baseline_pred))\n",
    "print(classification_report(y_test, y_baseline_pred, zero_division=1))\n",
    "cm = confusion_matrix(y_test, y_baseline_pred)\n",
    "print(\"Confusion Matrix:\\n\", cm)"
   ]
  },
  {
   "cell_type": "markdown",
   "id": "03bccfce",
   "metadata": {},
   "source": [
    "Not a very good model, of course.\n",
    "\n",
    "Let's try using a logistic regression model."
   ]
  },
  {
   "cell_type": "code",
   "execution_count": 6,
   "id": "a28dcd86",
   "metadata": {},
   "outputs": [
    {
     "name": "stdout",
     "output_type": "stream",
     "text": [
      "Accuracy: 1.0\n",
      "              precision    recall  f1-score   support\n",
      "\n",
      "           0       1.00      1.00      1.00        28\n",
      "           1       1.00      1.00      1.00        12\n",
      "\n",
      "    accuracy                           1.00        40\n",
      "   macro avg       1.00      1.00      1.00        40\n",
      "weighted avg       1.00      1.00      1.00        40\n",
      "\n",
      "Confusion Matrix:\n",
      " [[28  0]\n",
      " [ 0 12]]\n"
     ]
    }
   ],
   "source": [
    "model = LogisticRegression(max_iter=9999) # increase limit on the number of iterations\n",
    "model.fit(x_train, y_train)\n",
    "\n",
    "y_pred = model.predict(x_test)\n",
    "\n",
    "print(\"Accuracy:\", accuracy_score(y_test, y_pred))\n",
    "print(classification_report(y_test, y_pred, zero_division=1))\n",
    "cm = confusion_matrix(y_test, y_pred)\n",
    "print(\"Confusion Matrix:\\n\", cm)"
   ]
  },
  {
   "cell_type": "markdown",
   "id": "2ef620c6",
   "metadata": {},
   "source": [
    "Using a logistic regression model ended up achieving perfect accuracy for our test set (sometimes 0.975). Definitely better than the baseline model.\n",
    "\n",
    "We do care about recall, because FN is costly (incorrectly predicting that the patient does not have CKD), but that is high as well because the accuracy is 1 (or sometimes 0.975)."
   ]
  },
  {
   "cell_type": "code",
   "execution_count": 7,
   "id": "38148318",
   "metadata": {},
   "outputs": [
    {
     "name": "stdout",
     "output_type": "stream",
     "text": [
      "   Feature  Coefficient  Absolute Coefficient\n",
      "3       al    -1.628010              1.628010\n",
      "14    hemo     1.171623              1.171623\n",
      "18     htn    -1.040737              1.040737\n",
      "11      sc    -1.031119              1.031119\n",
      "19      dm    -1.030906              1.030906\n",
      "4       su    -0.782523              0.782523\n",
      "22      pe    -0.737404              0.737404\n",
      "17      rc     0.719852              0.719852\n",
      "21   appet    -0.633714              0.633714\n",
      "5      rbc     0.302533              0.302533\n",
      "13     pot    -0.248275              0.248275\n",
      "23     ane    -0.225777              0.225777\n",
      "6       pc     0.197410              0.197410\n",
      "15     pcv     0.119346              0.119346\n",
      "1       bp    -0.074432              0.074432\n",
      "12     sod     0.071938              0.071938\n",
      "7      pcc    -0.056572              0.056572\n",
      "2       sg     0.044477              0.044477\n",
      "20     cad    -0.042363              0.042363\n",
      "10      bu     0.026738              0.026738\n",
      "9      bgr    -0.022563              0.022563\n",
      "8       ba    -0.009211              0.009211\n",
      "0      age     0.001543              0.001543\n",
      "16      wc     0.000068              0.000068\n"
     ]
    }
   ],
   "source": [
    "coefficients = model.coef_[0]\n",
    "feature_importance = pd.DataFrame({'Feature': x.columns, 'Coefficient': coefficients})\n",
    "\n",
    "feature_importance['Absolute Coefficient'] = feature_importance['Coefficient'].abs()\n",
    "feature_importance = feature_importance.sort_values(by='Absolute Coefficient', ascending=False)\n",
    "\n",
    "print(feature_importance)"
   ]
  },
  {
   "cell_type": "markdown",
   "id": "0297840d",
   "metadata": {},
   "source": [
    "As predicted from performing EDA, serum creatinine (sc), albumin (al), hemoglobin (hemo), and red blood cell counts (rc) are strong indicators in predicting whether a patient has CKD.\n",
    "\n",
    "However, packed cell volume (pcv) and specific gravity (sg), also from EDA, were not strong indicators in doing so.\n",
    "\n",
    "Obviously, over different trainings, the model has different coefficients for each feature, but the ones mentioned above are true across several different trainings."
   ]
  }
 ],
 "metadata": {
  "kernelspec": {
   "display_name": "base",
   "language": "python",
   "name": "python3"
  },
  "language_info": {
   "codemirror_mode": {
    "name": "ipython",
    "version": 3
   },
   "file_extension": ".py",
   "mimetype": "text/x-python",
   "name": "python",
   "nbconvert_exporter": "python",
   "pygments_lexer": "ipython3",
   "version": "3.13.3"
  }
 },
 "nbformat": 4,
 "nbformat_minor": 5
}
