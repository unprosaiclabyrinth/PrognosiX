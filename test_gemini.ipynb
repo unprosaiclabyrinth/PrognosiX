{
 "cells": [
  {
   "cell_type": "code",
   "execution_count": 1,
   "id": "a89847c1",
   "metadata": {},
   "outputs": [],
   "source": [
    "from google import genai\n",
    "from dotenv import load_dotenv\n",
    "import os"
   ]
  },
  {
   "cell_type": "markdown",
   "id": "4f92771a",
   "metadata": {},
   "source": [
    "Get API key from .env"
   ]
  },
  {
   "cell_type": "code",
   "execution_count": 2,
   "id": "b0435b4e",
   "metadata": {},
   "outputs": [],
   "source": [
    "_ = load_dotenv()\n",
    "api_key = os.getenv(\"API_KEY\")"
   ]
  },
  {
   "cell_type": "markdown",
   "id": "5ec40666",
   "metadata": {},
   "source": [
    "### One-shot learning text example\n",
    "Not quite accurate, should develop the example  \n",
    "Potentially, use N-shot learning"
   ]
  },
  {
   "cell_type": "code",
   "execution_count": 3,
   "id": "ff33ec1d",
   "metadata": {},
   "outputs": [],
   "source": [
    "def get_pairs_text(text):\n",
    "    example = \"\"\"\n",
    "    Example:\n",
    "    Text: \"I'm 43 years old, and my recent blood tests showed a specific gravity of 1.010. I have been feeling quite fatigued, and my doctor mentioned I might have anemia. My blood pressure is high, and I have a poor appetite.\"\n",
    "\n",
    "    Key-value pairs:\n",
    "    age: 43\n",
    "    sg: 1.010\n",
    "    appet: poor\n",
    "    ane: yes\n",
    "    htn: yes\n",
    "    \"\"\"\n",
    "\n",
    "    prompt = f\"\"\"\n",
    "    Here are the keys, what they represent, and their possible values.\n",
    "\n",
    "    1. Age (numerical): age in years\n",
    "    2. Blood Pressure (nominal): htn - (yes,no)\n",
    "    3. Specific Gravity (nominal): sg - (1.005,1.010,1.015,1.020,1.025)\n",
    "    4. Albumin (nominal): al - (0,1,2,3,4,5)\n",
    "    5. Sugar (nominal): su - (0,1,2,3,4,5)\n",
    "    6. Red Blood Cells (nominal): rbc - (normal,abnormal)\n",
    "    7. Pus Cell (nominal): pc - (normal,abnormal)\n",
    "    8. Pus Cell clumps (nominal): pcc - (present,notpresent)\n",
    "    9. Bacteria (nominal): ba - (present,notpresent)\n",
    "    10. Blood Glucose Random (numerical): bgr in mgs/dl\n",
    "    11. Blood Urea (numerical): bu in mgs/dl\n",
    "    12. Serum Creatinine (numerical): sc in mgs/dl\n",
    "    13. Sodium (numerical): sod in mEq/L\n",
    "    14. Potassium (numerical): pot in mEq/L\n",
    "    15. Hemoglobin (numerical): hemo in gms\n",
    "    16. Packed Cell Volume (numerical)\n",
    "    17. White Blood Cell Count (numerical): wc in cells/cumm\n",
    "    18. Red Blood Cell Count (numerical): rc in millions/cmm\n",
    "    19. Hypertension (nominal): htn - (yes,no)\n",
    "    20. Diabetes Mellitus (nominal): dm - (yes,no)\n",
    "    21. Coronary Artery Disease (nominal): cad - (yes,no)\n",
    "    22. Appetite (nominal): appet - (good,poor)\n",
    "    23. Pedal Edema (nominal): pe - (yes,no)    \n",
    "    24. Anemia (nominal): ane - (yes,no)\n",
    "\n",
    "    I'll provide you with an example of generating key-value pairs, then ask you to do the same for a new text.\n",
    "    \n",
    "    {example}\n",
    "\n",
    "    Now, please analyze this new text:\n",
    "    Text: \"{text}\"\n",
    "\n",
    "    Key-value pairs:\n",
    "    \"\"\"\n",
    "\n",
    "    client = genai.Client(api_key=api_key)\n",
    "    response = client.models.generate_content(\n",
    "        model=\"gemini-2.0-flash\", contents=prompt\n",
    "    )\n",
    "    return response.text\n"
   ]
  },
  {
   "cell_type": "code",
   "execution_count": 4,
   "id": "583e4938",
   "metadata": {},
   "outputs": [
    {
     "data": {
      "text/plain": [
       "'ane: yes\\nhtn: yes\\nrbc: abnormal\\nappet: poor\\n'"
      ]
     },
     "execution_count": 4,
     "metadata": {},
     "output_type": "execute_result"
    }
   ],
   "source": [
    "get_pairs_text(\"I am tired recently and cannot eat as much. My doctor said my red blood cell count is low, and that I have anemia. My head hurts a lot and my blood pressure is high, what do I do?\")"
   ]
  },
  {
   "cell_type": "markdown",
   "id": "00d4f458",
   "metadata": {},
   "source": [
    "### One-shot learning image\n",
    "Probably also use an image as the example?\n",
    "The output is not exactly what we're looking for"
   ]
  },
  {
   "cell_type": "code",
   "execution_count": 5,
   "id": "a811f693",
   "metadata": {},
   "outputs": [],
   "source": [
    "def get_pairs_image(path):\n",
    "    example = \"\"\"\n",
    "    Example:\n",
    "    Text: \"I'm 43 years old, and my recent blood tests showed a specific gravity of 1.010. I have been feeling quite fatigued, and my doctor mentioned I might have anemia. My blood pressure is high, and I have a poor appetite.\"\n",
    "\n",
    "    Key-value pairs:\n",
    "    age: 43\n",
    "    sg: 1.010\n",
    "    appet: poor\n",
    "    ane: yes\n",
    "    htn: yes\n",
    "    \"\"\"\n",
    "\n",
    "    prompt = f\"\"\"\n",
    "    Here are the keys, what they represent, and their possible values.\n",
    "\n",
    "    1. Age (numerical): age in years\n",
    "    2. Blood Pressure (nominal): htn - (yes,no)\n",
    "    3. Specific Gravity (nominal): sg - (1.005,1.010,1.015,1.020,1.025)\n",
    "    4. Albumin (nominal): al - (0,1,2,3,4,5)\n",
    "    5. Sugar (nominal): su - (0,1,2,3,4,5)\n",
    "    6. Red Blood Cells (nominal): rbc - (normal,abnormal)\n",
    "    7. Pus Cell (nominal): pc - (normal,abnormal)\n",
    "    8. Pus Cell clumps (nominal): pcc - (present,notpresent)\n",
    "    9. Bacteria (nominal): ba - (present,notpresent)\n",
    "    10. Blood Glucose Random (numerical): bgr in mgs/dl\n",
    "    11. Blood Urea (numerical): bu in mgs/dl\n",
    "    12. Serum Creatinine (numerical): sc in mgs/dl\n",
    "    13. Sodium (numerical): sod in mEq/L\n",
    "    14. Potassium (numerical): pot in mEq/L\n",
    "    15. Hemoglobin (numerical): hemo in gms\n",
    "    16. Packed Cell Volume (numerical)\n",
    "    17. White Blood Cell Count (numerical): wc in cells/cumm\n",
    "    18. Red Blood Cell Count (numerical): rc in millions/cmm\n",
    "    19. Hypertension (nominal): htn - (yes,no)\n",
    "    20. Diabetes Mellitus (nominal): dm - (yes,no)\n",
    "    21. Coronary Artery Disease (nominal): cad - (yes,no)\n",
    "    22. Appetite (nominal): appet - (good,poor)\n",
    "    23. Pedal Edema (nominal): pe - (yes,no)    \n",
    "    24. Anemia (nominal): ane - (yes,no)\n",
    "\n",
    "    I'll provide you with an textual example of generating key-value pairs, then ask you to do the same for a Comprehensive Metabolic Panel report.\n",
    "    \n",
    "    {example}\n",
    "\n",
    "    Now, please extract the text from this image, then generate only the key-value pairs.\n",
    "\n",
    "    Key-value pairs:\n",
    "    \"\"\"\n",
    "\n",
    "    client = genai.Client(api_key=api_key)\n",
    "    myfile = client.files.upload(file=path)\n",
    "    response = client.models.generate_content(\n",
    "        model=\"gemini-2.5-pro-exp-03-25\", contents=[myfile, prompt]\n",
    "    )\n",
    "    return response.text"
   ]
  },
  {
   "cell_type": "code",
   "execution_count": 6,
   "id": "f42b8a0c",
   "metadata": {},
   "outputs": [
    {
     "data": {
      "text/plain": [
       "'```json\\n{\\n  \"bgr\": 294,\\n  \"bu\": 51,\\n  \"sc\": 2.96,\\n  \"sod\": 126,\\n  \"pot\": 2.9,\\n  \"hemo\": 11.0,\\n  \"Packed Cell Volume\": 32.5,\\n  \"wc\": 18600,\\n  \"rc\": 3.74,\\n  \"ane\": \"yes\",\\n  \"rbc\": \"abnormal\"\\n}\\n```'"
      ]
     },
     "execution_count": 6,
     "metadata": {},
     "output_type": "execute_result"
    }
   ],
   "source": [
    "get_pairs_image(\"cmp.png\")"
   ]
  },
  {
   "cell_type": "code",
   "execution_count": null,
   "id": "a96d102a",
   "metadata": {},
   "outputs": [],
   "source": []
  }
 ],
 "metadata": {
  "kernelspec": {
   "display_name": "Python 3",
   "language": "python",
   "name": "python3"
  },
  "language_info": {
   "codemirror_mode": {
    "name": "ipython",
    "version": 3
   },
   "file_extension": ".py",
   "mimetype": "text/x-python",
   "name": "python",
   "nbconvert_exporter": "python",
   "pygments_lexer": "ipython3",
   "version": "3.12.7"
  }
 },
 "nbformat": 4,
 "nbformat_minor": 5
}
