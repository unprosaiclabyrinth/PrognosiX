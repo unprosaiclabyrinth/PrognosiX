{
 "cells": [
  {
   "cell_type": "markdown",
   "id": "5cb2a8cb",
   "metadata": {},
   "source": [
    "### Next Steps\n",
    "- Use LLM to get message to user"
   ]
  },
  {
   "cell_type": "code",
   "execution_count": 1,
   "id": "a89847c1",
   "metadata": {},
   "outputs": [],
   "source": [
    "import json\n",
    "import os\n",
    "import re\n",
    "\n",
    "import pandas as pd\n",
    "from dotenv import load_dotenv\n",
    "\n",
    "import google.genai as genai"
   ]
  },
  {
   "cell_type": "markdown",
   "id": "4f92771a",
   "metadata": {},
   "source": [
    "Get API key from .env"
   ]
  },
  {
   "cell_type": "code",
   "execution_count": 2,
   "id": "b0435b4e",
   "metadata": {},
   "outputs": [],
   "source": [
    "_ = load_dotenv()\n",
    "api_key = os.getenv(\"API_KEY\")"
   ]
  },
  {
   "cell_type": "markdown",
   "id": "5ec40666",
   "metadata": {},
   "source": [
    "### One-shot learning text example\n",
    "This is decent"
   ]
  },
  {
   "cell_type": "code",
   "execution_count": 3,
   "id": "d776fda6",
   "metadata": {},
   "outputs": [],
   "source": [
    "expected_cols = [\n",
    "    'age', 'bp', 'sg', 'al', 'su', 'rbc', 'pc', 'pcc',\n",
    "    'ba', 'bgr', 'bu', 'sc', 'sod', 'pot', 'hemo', 'pcv', \n",
    "    'wc', 'rc', 'htn', 'dm', 'cad', 'appet', 'pe', 'ane',\n",
    "]"
   ]
  },
  {
   "cell_type": "code",
   "execution_count": 4,
   "id": "ec840a61",
   "metadata": {},
   "outputs": [],
   "source": [
    "def response_to_df(text):\n",
    "    if 'json' in text:\n",
    "        fixed_str = text.removeprefix('```json\\n').removesuffix('\\n```')\n",
    "        if '{' not in fixed_str:\n",
    "            fixed_str = '{' + fixed_str\n",
    "        if '\\n}' not in fixed_str:\n",
    "            fixed_str += '\\n}'\n",
    "\n",
    "        fixed_str = re.sub(r'(\\b(?:yes|no|true|false)\\b)(?=\\s*[\\n,])', r'\"\\1\"', fixed_str) # add double quotes around non-numeric values\n",
    "        fixed_str = re.sub(r'([{,]?\\s*)(\\w+)(\\s*:)', r'\\1\"\\2\"\\3', fixed_str) # add double quotes around keys if necessary\n",
    "        fixed_str = re.sub(r'(?<=[\\d\"])\\s*\\n(?=\\s*\"\\w+\":)', ',\\n', fixed_str) # add commas to end of life (except last) if necessary\n",
    "\n",
    "        try:\n",
    "            data = json.loads(fixed_str)\n",
    "        except:\n",
    "            print(fixed_str)\n",
    "            return\n",
    "    else:\n",
    "        try:\n",
    "            data = dict(line.split(\": \") for line in text.strip().splitlines())\n",
    "        except:\n",
    "            print(text)\n",
    "            return\n",
    "    \n",
    "    try:\n",
    "        df = pd.DataFrame([data]).reindex(columns=expected_cols)\n",
    "    except:\n",
    "        print(data)\n",
    "        return\n",
    "    \n",
    "    return df"
   ]
  },
  {
   "cell_type": "code",
   "execution_count": 5,
   "id": "ff33ec1d",
   "metadata": {},
   "outputs": [],
   "source": [
    "def get_pairs_text(text):\n",
    "    example = \"\"\"\n",
    "    Example 1:\n",
    "    Text: \"I'm 43 years old, and my recent blood tests showed a low specific gravity. I have been feeling quite fatigued, and my doctor mentioned I might have anemia. My blood pressure is high, and I have a poor appetite.\"\n",
    "\n",
    "    Key-value pairs:\n",
    "    age: 43\n",
    "    appet: poor\n",
    "    ane: yes\n",
    "    htn: yes\n",
    "    \"\"\"\n",
    "\n",
    "    prompt = f\"\"\"\n",
    " \t1. Age (numerical): age in years\n",
    " \t2. Blood Pressure (numerical): bp in mm/Hg\n",
    " \t3. Specific Gravity (nominal): sg - (1.005,1.010,1.015,1.020,1.025)\n",
    " \t4. Albumin (nominal): al - (0,1,2,3,4,5)\n",
    " \t5. Sugar (nominal): su - (0,1,2,3,4,5)\n",
    " \t6. Red Blood Cells (nominal): rbc - (normal,abnormal)\n",
    " \t7. Pus Cell (nominal): pc - (normal,abnormal)\n",
    " \t8. Pus Cell clumps (nominal): pcc - (present,notpresent)\n",
    " \t9. Bacteria (nominal): ba - (present,notpresent)\n",
    " \t10. Blood Glucose Random (numerical): bgr in mgs/dl\n",
    " \t11. Blood Urea (numerical): bu in mgs/dl\n",
    " \t12. Serum Creatinine (numerical): sc in mgs/dl\n",
    " \t13. Sodium (numerical): sod in mEq/L\n",
    " \t14. Potassium (numerical): pot in mEq/L\n",
    " \t15. Hemoglobin (numerical): hemo in gms\n",
    " \t16. Packed Cell Volume (numerical): pcv in %\n",
    " \t17. White Blood Cell Count (numerical): wc in cells/cumm\n",
    " \t18. Red Blood Cell Count (numerical): rc in millions/cmm\n",
    " \t19. Hypertension (nominal): htn - (yes,no)\n",
    " \t20. Diabetes Mellitus (nominal): dm - (yes,no)\n",
    " \t21. Coronary Artery Disease (nominal): cad - (yes,no)\n",
    " \t22. Appetite (nominal): appet - (good,poor)\n",
    " \t23. Pedal Edema (nominal): pe - (yes,no)\t\n",
    " \t24. Anemia (nominal): ane - (yes,no)\n",
    "\n",
    "    I'll provide you with an example of generating key-value pairs, then ask you to do the same for a new text.\n",
    "    \n",
    "    {example}\n",
    "\n",
    "    Now, please analyze the following text and extract the key-value pairs:\n",
    "    Text: {text}\n",
    "\n",
    "    Key-value pairs:\n",
    "    \"\"\"\n",
    "\n",
    "    client = genai.Client(api_key=api_key)\n",
    "    response = client.models.generate_content(\n",
    "        model=\"gemini-2.0-flash\", contents=prompt\n",
    "    )\n",
    "    return response.text\n"
   ]
  },
  {
   "cell_type": "code",
   "execution_count": 6,
   "id": "583e4938",
   "metadata": {},
   "outputs": [],
   "source": [
    "text = get_pairs_text(\"I (45M) am tired recently and cannot eat as much. My doctor said my red blood cell count is low, and that I have anemia. My head hurts a lot and my blood pressure is high, what do I do?\")"
   ]
  },
  {
   "cell_type": "code",
   "execution_count": 7,
   "id": "171cdf72",
   "metadata": {},
   "outputs": [],
   "source": [
    "text_df = response_to_df(text)"
   ]
  },
  {
   "cell_type": "markdown",
   "id": "00d4f458",
   "metadata": {},
   "source": [
    "### One-shot learning image\n",
    "Definitely getting somewhere..."
   ]
  },
  {
   "cell_type": "code",
   "execution_count": 8,
   "id": "a811f693",
   "metadata": {},
   "outputs": [],
   "source": [
    "def get_pairs_image(path, report_type):\n",
    "    example = \"\"\"\n",
    "    Example:\n",
    "    Text: \"I'm 43 years old, and my recent blood tests showed a specific gravity of 1.010. I have been feeling quite fatigued, and my doctor mentioned I might have anemia. My blood pressure is high, and I have a poor appetite.\"\n",
    "\n",
    "    Key-value pairs:\n",
    "    age: 43\n",
    "    sg: 1.010\n",
    "    appet: poor\n",
    "    ane: yes\n",
    "    htn: yes\n",
    "    \"\"\"\n",
    "\n",
    "    prompt = f\"\"\"\n",
    "    Here are the keys, what they represent, and their possible values.\n",
    "\n",
    " \t1. Age (numerical): age in years\n",
    " \t2. Blood Pressure (numerical): bp in mm/Hg\n",
    " \t3. Specific Gravity (nominal): sg - (1.005,1.010,1.015,1.020,1.025)\n",
    " \t4. Albumin (nominal): al - (0,1,2,3,4,5)\n",
    " \t5. Sugar (nominal): su - (0,1,2,3,4,5)\n",
    " \t6. Red Blood Cells (nominal): rbc - (normal,abnormal)\n",
    " \t7. Pus Cell (nominal): pc - (normal,abnormal)\n",
    " \t8. Pus Cell clumps (nominal): pcc - (present,notpresent)\n",
    " \t9. Bacteria (nominal): ba - (present,notpresent)\n",
    " \t10. Blood Glucose Random (numerical): bgr in mgs/dl\n",
    " \t11. Blood Urea (numerical): bu in mgs/dl\n",
    " \t12. Serum Creatinine (numerical): sc in mgs/dl\n",
    " \t13. Sodium (numerical): sod in mEq/L\n",
    " \t14. Potassium (numerical): pot in mEq/L\n",
    " \t15. Hemoglobin (numerical): hemo in gms\n",
    " \t16. Packed Cell Volume (numerical): pcv in %\n",
    " \t17. White Blood Cell Count (numerical): wc in cells/cumm\n",
    " \t18. Red Blood Cell Count (numerical): rc in millions/cmm\n",
    " \t19. Hypertension (nominal): htn - (yes,no)\n",
    " \t20. Diabetes Mellitus (nominal): dm - (yes,no)\n",
    " \t21. Coronary Artery Disease (nominal): cad - (yes,no)\n",
    " \t22. Appetite (nominal): appet - (good,poor)\n",
    " \t23. Pedal Edema (nominal): pe - (yes,no)\t\n",
    " \t24. Anemia (nominal): ane - (yes,no)\n",
    "\n",
    "    I'll provide you with an textual example of generating key-value pairs, then ask you to do the same for a {report_type} report.\n",
    "    \n",
    "    {example}\n",
    "\n",
    "    Now, please extract the text from this pdf, then generate only the key-value pairs.\n",
    "\n",
    "    Key-value pairs:\n",
    "    \"\"\"\n",
    "\n",
    "    client = genai.Client(api_key=api_key)\n",
    "    myfile = client.files.upload(file=path)\n",
    "    response = client.models.generate_content(\n",
    "        model=\"gemini-2.5-pro-exp-03-25\", contents=[myfile, prompt]\n",
    "    )\n",
    "    return response.text"
   ]
  },
  {
   "cell_type": "code",
   "execution_count": 9,
   "id": "f42b8a0c",
   "metadata": {},
   "outputs": [],
   "source": [
    "cmp = get_pairs_image(\"llm_src/example_cmp.png\", \"Comprehensive Metabolic Panel\")"
   ]
  },
  {
   "cell_type": "code",
   "execution_count": 10,
   "id": "66542809",
   "metadata": {},
   "outputs": [],
   "source": [
    "cmp_df = response_to_df(cmp)"
   ]
  },
  {
   "cell_type": "code",
   "execution_count": 11,
   "id": "a96d102a",
   "metadata": {},
   "outputs": [],
   "source": [
    "cbc = get_pairs_image(\"llm_src/example_cbc.png\", \"Complete Blood Count\")"
   ]
  },
  {
   "cell_type": "code",
   "execution_count": 12,
   "id": "feade8c2",
   "metadata": {},
   "outputs": [],
   "source": [
    "cbc_df = response_to_df(cbc)"
   ]
  },
  {
   "cell_type": "code",
   "execution_count": 13,
   "id": "158c7eec",
   "metadata": {},
   "outputs": [],
   "source": [
    "cbc_2 = get_pairs_image(\"llm_src/example_cbc_2.png\", \"Comprehensive Metabolic Panel\")"
   ]
  },
  {
   "cell_type": "code",
   "execution_count": 14,
   "id": "231d31dd",
   "metadata": {},
   "outputs": [],
   "source": [
    "cbc_2_df = response_to_df(cbc_2)"
   ]
  },
  {
   "cell_type": "code",
   "execution_count": 15,
   "id": "e1a62ac6",
   "metadata": {},
   "outputs": [],
   "source": [
    "combined = cbc = get_pairs_image(\"llm_src/example_combined.jpg\", \"Multiple Lab Reports\")"
   ]
  },
  {
   "cell_type": "code",
   "execution_count": 16,
   "id": "597f2a6a",
   "metadata": {},
   "outputs": [],
   "source": [
    "combined_df = response_to_df(combined)"
   ]
  },
  {
   "cell_type": "code",
   "execution_count": 17,
   "id": "3db656cc",
   "metadata": {},
   "outputs": [],
   "source": [
    "multi_test_df = pd.DataFrame(columns=expected_cols)\n",
    "\n",
    "all_df = pd.concat([text_df, cmp_df, cbc_df, cbc_2_df, combined_df], ignore_index=True)\n",
    "\n",
    "result_row = all_df.bfill(axis=0).iloc[0]\n",
    "\n",
    "multi_test_df.loc[0] = result_row"
   ]
  },
  {
   "cell_type": "code",
   "execution_count": 18,
   "id": "130713a1",
   "metadata": {},
   "outputs": [],
   "source": [
    "multi_test_df.to_csv('llm_src/multi_test_values.csv', index=False)"
   ]
  },
  {
   "cell_type": "code",
   "execution_count": null,
   "id": "6b7e7dc8",
   "metadata": {},
   "outputs": [],
   "source": []
  }
 ],
 "metadata": {
  "kernelspec": {
   "display_name": "env",
   "language": "python",
   "name": "python3"
  },
  "language_info": {
   "codemirror_mode": {
    "name": "ipython",
    "version": 3
   },
   "file_extension": ".py",
   "mimetype": "text/x-python",
   "name": "python",
   "nbconvert_exporter": "python",
   "pygments_lexer": "ipython3",
   "version": "3.13.2"
  }
 },
 "nbformat": 4,
 "nbformat_minor": 5
}
