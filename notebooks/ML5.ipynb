{
 "cells": [
  {
   "cell_type": "markdown",
   "id": "0d52527c",
   "metadata": {},
   "source": [
    "#### ML Analysis #5 - Naïve Bayes\n",
    "Chesta Dewangan"
   ]
  },
  {
   "cell_type": "markdown",
   "id": "e973e6c8",
   "metadata": {},
   "source": [
    "For 5th Model we choose Naïve Bayes. \n",
    "\n",
    "Why Naïve Bayes?\n",
    "- Trains and predict very quickly.\n",
    "- Strong baseline to compare against more complex models like GBM and SVM.\n",
    "- Naïve Bayes assumes feature independence, it can tolerate imperfections after filling missing values."
   ]
  },
  {
   "cell_type": "code",
   "execution_count": 37,
   "id": "0133a361",
   "metadata": {},
   "outputs": [],
   "source": [
    "import pandas as pd\n",
    "%matplotlib inline\n",
    "import matplotlib.pyplot as plt\n",
    "\n",
    "from sklearn.model_selection import train_test_split\n",
    "from sklearn.preprocessing import LabelEncoder, OneHotEncoder, StandardScaler\n",
    "from sklearn.compose import ColumnTransformer\n",
    "from sklearn.impute import SimpleImputer\n",
    "from sklearn.pipeline import Pipeline\n",
    "from sklearn.metrics import (accuracy_score, roc_auc_score, ConfusionMatrixDisplay, classification_report, confusion_matrix)\n",
    "from sklearn.svm import SVC\n",
    "from sklearn.model_selection import GridSearchCV\n",
    "from sklearn.inspection import permutation_importance\n",
    "from sklearn.naive_bayes import GaussianNB"
   ]
  },
  {
   "cell_type": "code",
   "execution_count": 38,
   "id": "8e0c0417",
   "metadata": {},
   "outputs": [],
   "source": [
    "# Load the (preprocessed) data\n",
    "df = pd.read_csv(\"notebooks/ckd_preprocessed.csv\")"
   ]
  },
  {
   "cell_type": "markdown",
   "id": "4836297d",
   "metadata": {},
   "source": [
    "Preprocessing Setup"
   ]
  },
  {
   "cell_type": "code",
   "execution_count": 39,
   "id": "f0084aa2",
   "metadata": {},
   "outputs": [],
   "source": [
    "X = df.drop('classification', axis=1)\n",
    "y = df['classification']\n",
    "\n",
    "le = LabelEncoder()\n",
    "y = le.fit_transform(y)\n",
    "\n",
    "numerical_cols = X.select_dtypes(include=['int64', 'float64']).columns\n",
    "categorical_cols = X.select_dtypes(include=['object']).columns\n",
    "\n",
    "preprocessor = ColumnTransformer([\n",
    "    ('num', Pipeline([\n",
    "        ('imputer', SimpleImputer(strategy='mean')),\n",
    "        ('scaler', StandardScaler())\n",
    "    ]), numerical_cols),\n",
    "    ('cat', Pipeline([\n",
    "        ('imputer', SimpleImputer(strategy='most_frequent')),\n",
    "        ('encoder', OneHotEncoder(handle_unknown='ignore'))\n",
    "    ]), categorical_cols)\n",
    "])"
   ]
  },
  {
   "cell_type": "markdown",
   "id": "b9b8c179",
   "metadata": {},
   "source": [
    "Data Split"
   ]
  },
  {
   "cell_type": "code",
   "execution_count": 40,
   "id": "69fd1ad1",
   "metadata": {},
   "outputs": [],
   "source": [
    "X_train, X_test, y_train, y_test = train_test_split(\n",
    "    X, y, stratify=y, test_size=0.25, random_state=42\n",
    ")"
   ]
  },
  {
   "cell_type": "markdown",
   "id": "29b09966",
   "metadata": {},
   "source": [
    "Pipeline"
   ]
  },
  {
   "cell_type": "code",
   "execution_count": 41,
   "id": "734c2534",
   "metadata": {},
   "outputs": [],
   "source": [
    "nb_model = GaussianNB()\n",
    "\n",
    "nb_pipeline = Pipeline(steps=[\n",
    "    ('preprocessor', preprocessor),\n",
    "    ('classifier', nb_model)\n",
    "])"
   ]
  },
  {
   "cell_type": "markdown",
   "id": "d395fb58",
   "metadata": {},
   "source": [
    "Train & Predict"
   ]
  },
  {
   "cell_type": "code",
   "execution_count": 42,
   "id": "167d2630",
   "metadata": {},
   "outputs": [],
   "source": [
    "nb_pipeline.fit(X_train, y_train)\n",
    "\n",
    "y_pred_nb = nb_pipeline.predict(X_test)\n",
    "y_proba_nb = nb_pipeline.predict_proba(X_test)[:, 1]"
   ]
  },
  {
   "cell_type": "code",
   "execution_count": 43,
   "id": "b00a0e8d",
   "metadata": {},
   "outputs": [
    {
     "name": "stdout",
     "output_type": "stream",
     "text": [
      "Classification Report for Naive Bayes:\n",
      "               precision    recall  f1-score   support\n",
      "\n",
      "           0       1.00      0.92      0.96        63\n",
      "           1       0.88      1.00      0.94        37\n",
      "\n",
      "    accuracy                           0.95       100\n",
      "   macro avg       0.94      0.96      0.95       100\n",
      "weighted avg       0.96      0.95      0.95       100\n",
      "\n",
      "Accuracy Score: 0.95\n",
      "ROC AUC Score: 0.9603174603174603\n"
     ]
    },
    {
     "data": {
      "image/png": "[encoded data removed]",
      "text/plain": [
       "<Figure size 640x480 with 2 Axes>"
      ]
     },
     "metadata": {},
     "output_type": "display_data"
    }
   ],
   "source": [
    "print(\"Classification Report for Naive Bayes:\\n\", classification_report(y_test, y_pred_nb))\n",
    "\n",
    "print(\"Accuracy Score:\", accuracy_score(y_test, y_pred_nb))\n",
    "print(\"ROC AUC Score:\", roc_auc_score(y_test, y_proba_nb))\n",
    "\n",
    "ConfusionMatrixDisplay.from_predictions(y_test, y_pred_nb)\n",
    "plt.title(\"Naïve Bayes Confusion Matrix\")\n",
    "plt.show()"
   ]
  },
  {
   "cell_type": "markdown",
   "id": "de047fd5",
   "metadata": {},
   "source": [
    "The model correctly predicted CKD or non-CKD with an accuracy of 95%. Naïve Bayes model correctly identifies almost all CKD patients (Recall for class 1 = 1.00), which is very important in medical diagnosis where missing a positive case could be risky. ROC AUC of 0.96 indicates that the model is very good at ranking patients based on risk."
   ]
  }
 ],
 "metadata": {
  "kernelspec": {
   "display_name": "Python 3 (ipykernel)",
   "language": "python",
   "name": "python3"
  },
  "language_info": {
   "codemirror_mode": {
    "name": "ipython",
    "version": 3
   },
   "file_extension": ".py",
   "mimetype": "text/x-python",
   "name": "python",
   "nbconvert_exporter": "python",
   "pygments_lexer": "ipython3",
   "version": "3.9.21"
  }
 },
 "nbformat": 4,
 "nbformat_minor": 5
}
