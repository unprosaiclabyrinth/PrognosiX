{
 "cells": [
  {
   "cell_type": "markdown",
   "id": "9f98a05e",
   "metadata": {},
   "source": [
    "#### ML Analysis #1: Attempt to create a model that can accurately classify whether the patient has CKD.\n",
    "\n",
    "Yash Dhore"
   ]
  },
  {
   "cell_type": "code",
   "execution_count": 1,
   "id": "7918b2ab",
   "metadata": {},
   "outputs": [],
   "source": [
    "import pandas as pd\n",
    "\n",
    "from sklearn.model_selection import train_test_split\n",
    "from sklearn.linear_model import LogisticRegression\n",
    "from sklearn.preprocessing import LabelEncoder\n",
    "from sklearn.dummy import DummyClassifier\n",
    "from sklearn.metrics import (accuracy_score, confusion_matrix, classification_report)"
   ]
  },
  {
   "cell_type": "code",
   "execution_count": 2,
   "id": "2211c3d2",
   "metadata": {},
   "outputs": [],
   "source": [
    "# Load the (preprocessed) data\n",
    "df = pd.read_csv(\"ckd_preprocessed.csv\")"
   ]
  },
  {
   "cell_type": "markdown",
   "id": "0fedb353",
   "metadata": {},
   "source": [
    "Encode categorical variables to numerical form so that they can be trained upon"
   ]
  },
  {
   "cell_type": "code",
   "execution_count": 3,
   "id": "84ff7a0d",
   "metadata": {},
   "outputs": [],
   "source": [
    "label_encoder = LabelEncoder()\n",
    "\n",
    "object_columns_list = df.select_dtypes(include=['object']).columns.tolist()\n",
    "\n",
    "for object_column in object_columns_list:\n",
    "    df[object_column] = label_encoder.fit_transform(df[object_column])"
   ]
  },
  {
   "cell_type": "markdown",
   "id": "2f83b4cb",
   "metadata": {},
   "source": [
    "Prepare the data by spliting into x and y, then into train/val/test sets"
   ]
  },
  {
   "cell_type": "code",
   "execution_count": null,
   "id": "b167c911",
   "metadata": {},
   "outputs": [],
   "source": [
    "# split data in 80:20 (temp, test)\n",
    "# then split temp into 80:20 (train, val)\n",
    "\n",
    "x = df.drop('classification', axis=1)\n",
    "y = df['classification']\n",
    "\n",
    "x_temp, x_test, y_temp, y_test = train_test_split(x, y, test_size=0.2) # split into train and temp\n",
    "x_train, x_val, y_train, y_val = train_test_split(x_temp, y_temp, test_size=0.2) # split temp into val and test"
   ]
  },
  {
   "cell_type": "markdown",
   "id": "ccf841b6",
   "metadata": {},
   "source": [
    "Baseline model that predicts based on the most frequent value"
   ]
  },
  {
   "cell_type": "code",
   "execution_count": 27,
   "id": "de718ab6",
   "metadata": {},
   "outputs": [
    {
     "name": "stdout",
     "output_type": "stream",
     "text": [
      "Accuracy: 0.6625\n",
      "              precision    recall  f1-score   support\n",
      "\n",
      "           0       0.66      1.00      0.80        53\n",
      "           1       1.00      0.00      0.00        27\n",
      "\n",
      "    accuracy                           0.66        80\n",
      "   macro avg       0.83      0.50      0.40        80\n",
      "weighted avg       0.78      0.66      0.53        80\n",
      "\n",
      "Confusion Matrix:\n",
      " [[53  0]\n",
      " [27  0]]\n"
     ]
    }
   ],
   "source": [
    "baseline_model = DummyClassifier(strategy='most_frequent')\n",
    "baseline_model.fit(x_train, y_train)\n",
    "\n",
    "y_baseline_pred = baseline_model.predict(x_test)\n",
    "\n",
    "print(\"Accuracy:\", accuracy_score(y_test, y_baseline_pred))\n",
    "print(classification_report(y_test, y_baseline_pred, zero_division=1))\n",
    "cm = confusion_matrix(y_test, y_baseline_pred)\n",
    "print(\"Confusion Matrix:\\n\", cm)"
   ]
  },
  {
   "cell_type": "markdown",
   "id": "03bccfce",
   "metadata": {},
   "source": [
    "Not a very good model, of course.\n",
    "\n",
    "Let's try using a logistic regression model."
   ]
  },
  {
   "cell_type": "code",
   "execution_count": 28,
   "id": "a28dcd86",
   "metadata": {},
   "outputs": [
    {
     "name": "stdout",
     "output_type": "stream",
     "text": [
      "Accuracy: 1.0\n",
      "              precision    recall  f1-score   support\n",
      "\n",
      "           0       1.00      1.00      1.00        53\n",
      "           1       1.00      1.00      1.00        27\n",
      "\n",
      "    accuracy                           1.00        80\n",
      "   macro avg       1.00      1.00      1.00        80\n",
      "weighted avg       1.00      1.00      1.00        80\n",
      "\n",
      "Confusion Matrix:\n",
      " [[53  0]\n",
      " [ 0 27]]\n"
     ]
    }
   ],
   "source": [
    "model = LogisticRegression(max_iter=99999) # increase limit on the number of iterations\n",
    "model.fit(x_train, y_train)\n",
    "\n",
    "y_pred = model.predict(x_test)\n",
    "\n",
    "print(\"Accuracy:\", accuracy_score(y_test, y_pred))\n",
    "print(classification_report(y_test, y_pred, zero_division=1))\n",
    "cm = confusion_matrix(y_test, y_pred)\n",
    "print(\"Confusion Matrix:\\n\", cm)"
   ]
  },
  {
   "cell_type": "markdown",
   "id": "2ef620c6",
   "metadata": {},
   "source": [
    "Using a logistic regression model ended up achieving perfect accuracy for our test set (sometimes 0.975). Definitely better than the baseline model.\n",
    "\n",
    "We do care about recall, because FN is costly (incorrectly predicting that the patient does not have CKD), but that is high as well because the accuracy is 1 (or sometimes 0.975)."
   ]
  },
  {
   "cell_type": "code",
   "execution_count": 31,
   "id": "38148318",
   "metadata": {},
   "outputs": [
    {
     "data": {
      "text/html": [
       "<div>\n",
       "<style scoped>\n",
       "    .dataframe tbody tr th:only-of-type {\n",
       "        vertical-align: middle;\n",
       "    }\n",
       "\n",
       "    .dataframe tbody tr th {\n",
       "        vertical-align: top;\n",
       "    }\n",
       "\n",
       "    .dataframe thead th {\n",
       "        text-align: right;\n",
       "    }\n",
       "</style>\n",
       "<table border=\"1\" class=\"dataframe\">\n",
       "  <thead>\n",
       "    <tr style=\"text-align: right;\">\n",
       "      <th></th>\n",
       "      <th>Feature</th>\n",
       "      <th>Coefficient</th>\n",
       "      <th>Absolute Coefficient</th>\n",
       "    </tr>\n",
       "  </thead>\n",
       "  <tbody>\n",
       "    <tr>\n",
       "      <th>18</th>\n",
       "      <td>htn</td>\n",
       "      <td>-1.349632</td>\n",
       "      <td>1.349632</td>\n",
       "    </tr>\n",
       "    <tr>\n",
       "      <th>19</th>\n",
       "      <td>dm</td>\n",
       "      <td>-1.320199</td>\n",
       "      <td>1.320199</td>\n",
       "    </tr>\n",
       "    <tr>\n",
       "      <th>3</th>\n",
       "      <td>al</td>\n",
       "      <td>-1.228003</td>\n",
       "      <td>1.228003</td>\n",
       "    </tr>\n",
       "    <tr>\n",
       "      <th>14</th>\n",
       "      <td>hemo</td>\n",
       "      <td>1.050057</td>\n",
       "      <td>1.050057</td>\n",
       "    </tr>\n",
       "    <tr>\n",
       "      <th>11</th>\n",
       "      <td>sc</td>\n",
       "      <td>-1.046498</td>\n",
       "      <td>1.046498</td>\n",
       "    </tr>\n",
       "    <tr>\n",
       "      <th>22</th>\n",
       "      <td>pe</td>\n",
       "      <td>-0.739518</td>\n",
       "      <td>0.739518</td>\n",
       "    </tr>\n",
       "    <tr>\n",
       "      <th>4</th>\n",
       "      <td>su</td>\n",
       "      <td>-0.723406</td>\n",
       "      <td>0.723406</td>\n",
       "    </tr>\n",
       "    <tr>\n",
       "      <th>17</th>\n",
       "      <td>rc</td>\n",
       "      <td>0.677558</td>\n",
       "      <td>0.677558</td>\n",
       "    </tr>\n",
       "    <tr>\n",
       "      <th>5</th>\n",
       "      <td>rbc</td>\n",
       "      <td>0.481642</td>\n",
       "      <td>0.481642</td>\n",
       "    </tr>\n",
       "    <tr>\n",
       "      <th>6</th>\n",
       "      <td>pc</td>\n",
       "      <td>0.466600</td>\n",
       "      <td>0.466600</td>\n",
       "    </tr>\n",
       "    <tr>\n",
       "      <th>21</th>\n",
       "      <td>appet</td>\n",
       "      <td>-0.348268</td>\n",
       "      <td>0.348268</td>\n",
       "    </tr>\n",
       "    <tr>\n",
       "      <th>23</th>\n",
       "      <td>ane</td>\n",
       "      <td>-0.295498</td>\n",
       "      <td>0.295498</td>\n",
       "    </tr>\n",
       "    <tr>\n",
       "      <th>13</th>\n",
       "      <td>pot</td>\n",
       "      <td>-0.249248</td>\n",
       "      <td>0.249248</td>\n",
       "    </tr>\n",
       "    <tr>\n",
       "      <th>7</th>\n",
       "      <td>pcc</td>\n",
       "      <td>-0.119944</td>\n",
       "      <td>0.119944</td>\n",
       "    </tr>\n",
       "    <tr>\n",
       "      <th>12</th>\n",
       "      <td>sod</td>\n",
       "      <td>0.112616</td>\n",
       "      <td>0.112616</td>\n",
       "    </tr>\n",
       "    <tr>\n",
       "      <th>20</th>\n",
       "      <td>cad</td>\n",
       "      <td>-0.096245</td>\n",
       "      <td>0.096245</td>\n",
       "    </tr>\n",
       "    <tr>\n",
       "      <th>15</th>\n",
       "      <td>pcv</td>\n",
       "      <td>0.089425</td>\n",
       "      <td>0.089425</td>\n",
       "    </tr>\n",
       "    <tr>\n",
       "      <th>1</th>\n",
       "      <td>bp</td>\n",
       "      <td>-0.048384</td>\n",
       "      <td>0.048384</td>\n",
       "    </tr>\n",
       "    <tr>\n",
       "      <th>2</th>\n",
       "      <td>sg</td>\n",
       "      <td>0.039050</td>\n",
       "      <td>0.039050</td>\n",
       "    </tr>\n",
       "    <tr>\n",
       "      <th>0</th>\n",
       "      <td>age</td>\n",
       "      <td>0.028403</td>\n",
       "      <td>0.028403</td>\n",
       "    </tr>\n",
       "    <tr>\n",
       "      <th>10</th>\n",
       "      <td>bu</td>\n",
       "      <td>0.024864</td>\n",
       "      <td>0.024864</td>\n",
       "    </tr>\n",
       "    <tr>\n",
       "      <th>9</th>\n",
       "      <td>bgr</td>\n",
       "      <td>-0.017959</td>\n",
       "      <td>0.017959</td>\n",
       "    </tr>\n",
       "    <tr>\n",
       "      <th>8</th>\n",
       "      <td>ba</td>\n",
       "      <td>-0.016319</td>\n",
       "      <td>0.016319</td>\n",
       "    </tr>\n",
       "    <tr>\n",
       "      <th>16</th>\n",
       "      <td>wc</td>\n",
       "      <td>-0.000087</td>\n",
       "      <td>0.000087</td>\n",
       "    </tr>\n",
       "  </tbody>\n",
       "</table>\n",
       "</div>"
      ],
      "text/plain": [
       "   Feature  Coefficient  Absolute Coefficient\n",
       "18     htn    -1.349632              1.349632\n",
       "19      dm    -1.320199              1.320199\n",
       "3       al    -1.228003              1.228003\n",
       "14    hemo     1.050057              1.050057\n",
       "11      sc    -1.046498              1.046498\n",
       "22      pe    -0.739518              0.739518\n",
       "4       su    -0.723406              0.723406\n",
       "17      rc     0.677558              0.677558\n",
       "5      rbc     0.481642              0.481642\n",
       "6       pc     0.466600              0.466600\n",
       "21   appet    -0.348268              0.348268\n",
       "23     ane    -0.295498              0.295498\n",
       "13     pot    -0.249248              0.249248\n",
       "7      pcc    -0.119944              0.119944\n",
       "12     sod     0.112616              0.112616\n",
       "20     cad    -0.096245              0.096245\n",
       "15     pcv     0.089425              0.089425\n",
       "1       bp    -0.048384              0.048384\n",
       "2       sg     0.039050              0.039050\n",
       "0      age     0.028403              0.028403\n",
       "10      bu     0.024864              0.024864\n",
       "9      bgr    -0.017959              0.017959\n",
       "8       ba    -0.016319              0.016319\n",
       "16      wc    -0.000087              0.000087"
      ]
     },
     "metadata": {},
     "output_type": "display_data"
    }
   ],
   "source": [
    "coefficients = model.coef_[0]\n",
    "feature_importance = pd.DataFrame({'Feature': x.columns, 'Coefficient': coefficients})\n",
    "\n",
    "feature_importance['Absolute Coefficient'] = feature_importance['Coefficient'].abs()\n",
    "feature_importance = feature_importance.sort_values(by='Absolute Coefficient', ascending=False)\n",
    "\n",
    "display(feature_importance)"
   ]
  },
  {
   "cell_type": "markdown",
   "id": "0297840d",
   "metadata": {},
   "source": [
    "As predicted from performing EDA, serum creatinine (sc), albumin (al), hemoglobin (hemo), and red blood cell counts (rc) are strong indicators in predicting whether a patient has CKD.\n",
    "\n",
    "However, packed cell volume (pcv) and specific gravity (sg), also from EDA, were not strong indicators in doing so.\n",
    "\n",
    "Obviously, over different trainings, the model has different coefficients for each feature, but the ones mentioned above are true across several different trainings."
   ]
  }
 ],
 "metadata": {
  "kernelspec": {
   "display_name": "env",
   "language": "python",
   "name": "python3"
  },
  "language_info": {
   "codemirror_mode": {
    "name": "ipython",
    "version": 3
   },
   "file_extension": ".py",
   "mimetype": "text/x-python",
   "name": "python",
   "nbconvert_exporter": "python",
   "pygments_lexer": "ipython3",
   "version": "3.13.2"
  }
 },
 "nbformat": 4,
 "nbformat_minor": 5
}
