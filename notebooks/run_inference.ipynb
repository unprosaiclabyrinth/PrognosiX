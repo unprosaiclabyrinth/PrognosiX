{
 "cells": [
  {
   "cell_type": "code",
   "execution_count": null,
   "id": "85040c5e",
   "metadata": {},
   "outputs": [],
   "source": [
    "import pandas as pd\n",
    "from joblib import load\n",
    "from sklearn.preprocessing import LabelEncoder"
   ]
  },
  {
   "cell_type": "code",
   "execution_count": null,
   "id": "12dd8196",
   "metadata": {},
   "outputs": [],
   "source": [
    "def impute_values(df, impute_df):\n",
    "    result = {}\n",
    "    \n",
    "    for column in impute_df.columns:\n",
    "        if impute_df[column].dtype == 'object':\n",
    "            result[column] = impute_df[column].mode()[0]\n",
    "        else:\n",
    "            result[column] = impute_df[column].median()\n",
    "    \n",
    "    df = df.fillna(result)\n",
    "\n",
    "    return df"
   ]
  },
  {
   "cell_type": "code",
   "execution_count": 5,
   "id": "52477e56",
   "metadata": {},
   "outputs": [],
   "source": [
    "model = load('ckd_model.joblib')\n",
    "\n",
    "ckd_df = pd.read_csv('ckd_preprocessed.csv')\n",
    "df = pd.read_csv('llm_src/multi_test_values.csv')"
   ]
  },
  {
   "cell_type": "code",
   "execution_count": 6,
   "id": "db963bb3",
   "metadata": {},
   "outputs": [],
   "source": [
    "df = impute_values(df, ckd_df)"
   ]
  },
  {
   "cell_type": "code",
   "execution_count": 7,
   "id": "bf34b2b6",
   "metadata": {},
   "outputs": [],
   "source": [
    "label_encoder = LabelEncoder()\n",
    "\n",
    "object_columns_list = df.select_dtypes(include=['object']).columns.tolist()\n",
    "\n",
    "for object_column in object_columns_list:\n",
    "    df[object_column] = label_encoder.fit_transform(df[object_column])"
   ]
  },
  {
   "cell_type": "code",
   "execution_count": 8,
   "id": "fc61b141",
   "metadata": {},
   "outputs": [
    {
     "name": "stderr",
     "output_type": "stream",
     "text": [
      "c:\\Users\\Yash Dhore\\.conda\\envs\\env\\Lib\\site-packages\\sklearn\\utils\\validation.py:2739: UserWarning: X does not have valid feature names, but LogisticRegression was fitted with feature names\n",
      "  warnings.warn(\n"
     ]
    },
    {
     "data": {
      "text/plain": [
       "array([0])"
      ]
     },
     "execution_count": 8,
     "metadata": {},
     "output_type": "execute_result"
    }
   ],
   "source": [
    "model.predict([df.loc[0]])"
   ]
  },
  {
   "cell_type": "code",
   "execution_count": null,
   "id": "73e41008",
   "metadata": {},
   "outputs": [],
   "source": []
  }
 ],
 "metadata": {
  "kernelspec": {
   "display_name": "env",
   "language": "python",
   "name": "python3"
  },
  "language_info": {
   "codemirror_mode": {
    "name": "ipython",
    "version": 3
   },
   "file_extension": ".py",
   "mimetype": "text/x-python",
   "name": "python",
   "nbconvert_exporter": "python",
   "pygments_lexer": "ipython3",
   "version": "3.13.2"
  }
 },
 "nbformat": 4,
 "nbformat_minor": 5
}
