{
 "cells": [
  {
   "cell_type": "markdown",
   "id": "2d6d7983",
   "metadata": {},
   "source": [
    "### Reflection"
   ]
  },
  {
   "cell_type": "markdown",
   "id": "fc2a7c9a",
   "metadata": {},
   "source": [
    "In the exploratory data analysis, one of the challenges encountered was dealing with missing data since some of the features have 20-38% of missing data. Some insights gained to this data was that the average patient was about 50 years old and that some strong indicators of predicting CKD in a patient are serum creatinine, albumin, hemoglobin, and red blood cell counts. Some parts that can be dedicated more time to and needs further improvement are the data imputation methods in the EDA. Also, the UCI dataset is pretty small as it only considers 400 patients.\n",
    "\n",
    "So far, we are on track with Prognosix, as we have uncovered some strong indicators of CKD. Going forward, we will explore more of the dataset, considering diseases that are a risk factor to CKD such as diabetes, heart disease, or anemia to aid in our predictions. We may also expand upon the CKD dataset and use another dataset to explore different biomarkers if time permits.\n",
    "\n",
    "One of the challenges we encountered in the visualization section was implementing the risk meter in the fifth visualization (Patient profile simulation). The idea was to simulate CKD risk (using sliders) using ML models to classify. Since we couldn't achieve this with the time we had, we tried matching the simulated cases with the existing data. However, the simulated cases won't always perfectly match or even close match for every input, especially since we have a small dataset. To address this issue for now and show the functionality, we had to experiment with different tolerances/thresholds (how close a simulated patient needs to exist in the dataset). While we found a value that works for now, we know it's misleading. We hope to fix this issue once we move to the next steps.\n",
    "\n",
    "The solution to this challenge is to integrate the visualization with our ML model so that it visualizes the predictions for all possible vectors in the feature space. However, the visualizations do show concrete results since they provide insights into the data set. We think it is possible to make the visualizations more insightful such that they answer a wider variety of questions. Another challenge we faced was integrating the single-view visualizations into interactive visualizations with multiple linked views. The future work for the visualizations would include more insightful single-view visualizations, integrating them into interactive multiple linked view visualizations, and adding an ML model for visualizaing the predictions along with interactions. We think we are on track with all of this thought out, and will be able to complete it.\n",
    "\n",
    "As for the initial machine learning analysis, the work went smoother than we initially thought. We were not sure what to expect from a simpler model like the linear regression model, but it ended up have great accuracy on the test set (most trainings 1.0). Because our datasat is somewhat small, we would like to use more and diverse data to ensure that our model is robust and will generalize to new data.\n",
    "\n",
    "For the second machine learning analysis, the upgraded analysis with a calibrated XGBoost pipeline went even better than expected—after clean preprocessing and tuning, the model consistently achieved ≈ 97–100 % accuracy and perfect AUC on our hold‑out set, while SHAP confirmed the clinical importance of creatinine, albumin, hemoglobin and RBC counts. These results give us high confidence that Prognosix can deliver fast, interpretable CKD‑risk scores, and they set a solid foundation for integrating real‑time predictions into the patient‑profile dashboard as we expand the dataset.\n",
    "\n",
    "We think this has the potential to be a useful application and could help analyze different patient cases and predict the risk early on. A large dataset could also help us train and test our models more effectively."
   ]
  },
  {
   "cell_type": "markdown",
   "id": "2834dacc",
   "metadata": {},
   "source": [
    "### Next Steps"
   ]
  },
  {
   "cell_type": "markdown",
   "id": "5c40b53f",
   "metadata": {},
   "source": [
    "**Goal**: To develop a fully functional web-based application that allows domain experts like doctors or specialists to simulate CKD risk, explore patient profiles, and interact with multiple linked visualizations - all combined by ML models and insights from EDA using visualizations shown above.\n",
    "\n",
    "**Plan** (before final presentation):\n",
    "- Build frontend structure and integrate individual components like different pages or features of the application\n",
    "- Connect the backend (ML) with visualization elements\n",
    "- Polish the application and test it"
   ]
  }
 ],
 "metadata": {
  "kernelspec": {
   "display_name": "base",
   "language": "python",
   "name": "python3"
  },
  "language_info": {
   "codemirror_mode": {
    "name": "ipython",
    "version": 3
   },
   "file_extension": ".py",
   "mimetype": "text/x-python",
   "name": "python",
   "nbconvert_exporter": "python",
   "pygments_lexer": "ipython3",
   "version": "3.13.3"
  }
 },
 "nbformat": 4,
 "nbformat_minor": 5
}
